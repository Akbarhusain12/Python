{
 "cells": [
  {
   "cell_type": "code",
   "execution_count": null,
   "id": "3a37b701-a03b-43a9-81c0-df08e516938b",
   "metadata": {},
   "outputs": [],
   "source": []
  }
 ],
 "metadata": {
  "kernelspec": {
   "display_name": "",
   "name": ""
  },
  "language_info": {
   "name": ""
  }
 },
 "nbformat": 4,
 "nbformat_minor": 5
}

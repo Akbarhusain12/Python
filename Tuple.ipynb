{
 "cells": [
  {
   "cell_type": "code",
   "execution_count": 1,
   "id": "87ed4810-31d5-41e2-bdff-b174acf8f9fb",
   "metadata": {},
   "outputs": [
    {
     "name": "stdout",
     "output_type": "stream",
     "text": [
      "(1, 2, 3)\n",
      "(10, 'Python', 3.14, True)\n",
      "(1, (2, 3), ('a', 'b'))\n"
     ]
    }
   ],
   "source": [
    "num_tuple = (1, 2, 3)\n",
    "print(num_tuple)\n",
    "\n",
    "mixed_tuple = (10, \"Python\", 3.14, True)\n",
    "print(mixed_tuple)\n",
    "\n",
    "nested_tuple = (1, (2, 3), (\"a\", \"b\"))\n",
    "print(nested_tuple)"
   ]
  },
  {
   "cell_type": "code",
   "execution_count": 2,
   "id": "4c2405d5-3d2c-4b85-838b-822b92aff945",
   "metadata": {},
   "outputs": [
    {
     "name": "stdout",
     "output_type": "stream",
     "text": [
      "()\n",
      "(42,)\n",
      "((1, 2), (3, 4), (5, 6))\n"
     ]
    }
   ],
   "source": [
    "empty_tuple = ()\n",
    "print(empty_tuple)\n",
    "\n",
    "single_element_tuple = (42,)\n",
    "print(single_element_tuple)\n",
    "\n",
    "tuple_of_tuples = ((1, 2), (3, 4), (5, 6))\n",
    "print(tuple_of_tuples)"
   ]
  },
  {
   "cell_type": "code",
   "execution_count": 3,
   "id": "c9945ddc-a613-4df8-8da4-9b00ac8625bb",
   "metadata": {},
   "outputs": [
    {
     "name": "stdout",
     "output_type": "stream",
     "text": [
      "('apple', 'banana', 'cherry')\n"
     ]
    }
   ],
   "source": [
    "string_tuple = (\"apple\", \"banana\", \"cherry\")\n",
    "print(string_tuple)"
   ]
  },
  {
   "cell_type": "code",
   "execution_count": 4,
   "id": "98b025bc-2258-45fe-9d9a-62fdde98bee4",
   "metadata": {},
   "outputs": [
    {
     "name": "stdout",
     "output_type": "stream",
     "text": [
      "(True, False, True)\n"
     ]
    }
   ],
   "source": [
    "boolean_tuple = (True, False, True)\n",
    "print(boolean_tuple)"
   ]
  },
  {
   "cell_type": "code",
   "execution_count": 5,
   "id": "a951d4e2-57f6-4959-803b-be9fb2a53145",
   "metadata": {},
   "outputs": [
    {
     "name": "stdout",
     "output_type": "stream",
     "text": [
      "(1, [2, 3], 4)\n"
     ]
    }
   ],
   "source": [
    "tuple_with_list = (1, [2, 3], 4)\n",
    "print(tuple_with_list)"
   ]
  },
  {
   "cell_type": "code",
   "execution_count": 6,
   "id": "6d8c7a8e-6faa-4bc6-a992-8b6bb38d0ea8",
   "metadata": {},
   "outputs": [
    {
     "name": "stdout",
     "output_type": "stream",
     "text": [
      "apple\n"
     ]
    }
   ],
   "source": [
    "string_tuple = (\"apple\")\n",
    "print(string_tuple)"
   ]
  },
  {
   "cell_type": "code",
   "execution_count": 10,
   "id": "8ecfcc62-8ec7-44c1-9a0c-dd9b7e490748",
   "metadata": {},
   "outputs": [
    {
     "name": "stdout",
     "output_type": "stream",
     "text": [
      "(1, 2, 3, 4, 5, 6)\n",
      "('a', 'b', 'c', 'd')\n",
      "(True, False, 7, 8, 9)\n"
     ]
    }
   ],
   "source": [
    "tuple1 = (1, 2, 3)\n",
    "tuple2 = 4, 5, 6\n",
    "concatenated_tuple = tuple1 + tuple2\n",
    "print(concatenated_tuple)  \n",
    "\n",
    "tuple3 = (\"a\", \"b\")\n",
    "tuple4 = (\"c\", \"d\")\n",
    "result_tuple = tuple3 + tuple4\n",
    "print(result_tuple)  \n",
    "\n",
    "tuple5 = (True, False)\n",
    "tuple6 = (7, 8, 9)\n",
    "combined_tuple = tuple5 + tuple6\n",
    "print(combined_tuple)  \n"
   ]
  },
  {
   "cell_type": "code",
   "execution_count": 11,
   "id": "cdf2b69c-7cf3-4018-adb5-cb5fd182eb7e",
   "metadata": {},
   "outputs": [
    {
     "name": "stdout",
     "output_type": "stream",
     "text": [
      "((1, 2, 3), (4, 5, 6))\n"
     ]
    }
   ],
   "source": [
    "tuple1 = (1, 2, 3)\n",
    "tuple2 = 4, 5, 6\n",
    "concatenated_tuple = tuple1 , tuple2\n",
    "print(concatenated_tuple)"
   ]
  },
  {
   "cell_type": "code",
   "execution_count": 13,
   "id": "ca65f06d-648a-437c-b7b3-1f2b54aed076",
   "metadata": {},
   "outputs": [
    {
     "name": "stdout",
     "output_type": "stream",
     "text": [
      "['Python', 'Python', 'Python']\n",
      "(1, 2, 1, 2, 1, 2, 1, 2)\n"
     ]
    }
   ],
   "source": [
    "tuple_example = [\"Python\",] * 3\n",
    "print(tuple_example) \n",
    "\n",
    "num_tuple = (1, 2) * 4\n",
    "print(num_tuple)"
   ]
  },
  {
   "cell_type": "code",
   "execution_count": 14,
   "id": "d0224f18-e283-4ed3-a966-9517616e9b06",
   "metadata": {},
   "outputs": [
    {
     "name": "stdout",
     "output_type": "stream",
     "text": [
      "10\n",
      "40\n"
     ]
    }
   ],
   "source": [
    "my_tuple = (10, 20, 30, 40, 50)\n",
    "\n",
    "print(my_tuple[0]) \n",
    "print(my_tuple[3])  "
   ]
  },
  {
   "cell_type": "code",
   "execution_count": 18,
   "id": "ccc1fea8-ff24-47d2-b244-ff57c6da6caa",
   "metadata": {},
   "outputs": [
    {
     "name": "stdout",
     "output_type": "stream",
     "text": [
      "(3, 4, 5)\n"
     ]
    }
   ],
   "source": [
    "my_tuple = (1, 2, 3, 4, 5)\n",
    "sliced_tuple = my_tuple[2:]\n",
    "print(sliced_tuple)\n"
   ]
  },
  {
   "cell_type": "code",
   "execution_count": null,
   "id": "b8afb6e0-116b-44da-89f1-d9a1ce7742aa",
   "metadata": {},
   "outputs": [],
   "source": []
  }
 ],
 "metadata": {
  "kernelspec": {
   "display_name": "Python 3 (ipykernel)",
   "language": "python",
   "name": "python3"
  },
  "language_info": {
   "codemirror_mode": {
    "name": "ipython",
    "version": 3
   },
   "file_extension": ".py",
   "mimetype": "text/x-python",
   "name": "python",
   "nbconvert_exporter": "python",
   "pygments_lexer": "ipython3",
   "version": "3.12.2"
  }
 },
 "nbformat": 4,
 "nbformat_minor": 5
}

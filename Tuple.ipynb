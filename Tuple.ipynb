{
 "cells": [
  {
   "cell_type": "code",
   "execution_count": 2,
   "id": "87ed4810-31d5-41e2-bdff-b174acf8f9fb",
   "metadata": {},
   "outputs": [
    {
     "name": "stdout",
     "output_type": "stream",
     "text": [
      "(1, 2, 3)\n",
      "(10, 'Python', 3.14, True)\n",
      "(1, (2, 3), ('a', 'b'))\n"
     ]
    }
   ],
   "source": [
    "num_tuple = (1, 2, 3)\n",
    "print(num_tuple)\n",
    "\n",
    "mixed_tuple = (10, \"Python\", 3.14, True)\n",
    "print(mixed_tuple)\n",
    "\n",
    "nested_tuple = (1, (2, 3), (\"a\", \"b\"))\n",
    "print(nested_tuple)"
   ]
  },
  {
   "cell_type": "code",
   "execution_count": 3,
   "id": "4c2405d5-3d2c-4b85-838b-822b92aff945",
   "metadata": {},
   "outputs": [
    {
     "name": "stdout",
     "output_type": "stream",
     "text": [
      "()\n",
      "(42,)\n",
      "('apple', 'banana', 'cherry')\n",
      "(True, False, True)\n",
      "(1, [2, 3], 4)\n",
      "((1, 2), (3, 4), (5, 6))\n"
     ]
    }
   ],
   "source": [
    "empty_tuple = ()\n",
    "print(empty_tuple)\n",
    "\n",
    "single_element_tuple = (42,)\n",
    "print(single_element_tuple)\n",
    "\n",
    "tuple_with_list = (1, [2, 3], 4)\n",
    "print(tuple_with_list)\n",
    "\n",
    "tuple_of_tuples = ((1, 2), (3, 4), (5, 6))\n",
    "print(tuple_of_tuples)"
   ]
  },
  {
   "cell_type": "code",
   "execution_count": 4,
   "id": "c9945ddc-a613-4df8-8da4-9b00ac8625bb",
   "metadata": {},
   "outputs": [
    {
     "name": "stdout",
     "output_type": "stream",
     "text": [
      "('apple', 'banana', 'cherry')\n"
     ]
    }
   ],
   "source": [
    "string_tuple = (\"apple\", \"banana\", \"cherry\")\n",
    "print(string_tuple)"
   ]
  },
  {
   "cell_type": "code",
   "execution_count": null,
   "id": "98b025bc-2258-45fe-9d9a-62fdde98bee4",
   "metadata": {},
   "outputs": [],
   "source": []
  }
 ],
 "metadata": {
  "kernelspec": {
   "display_name": "Python 3 (ipykernel)",
   "language": "python",
   "name": "python3"
  },
  "language_info": {
   "codemirror_mode": {
    "name": "ipython",
    "version": 3
   },
   "file_extension": ".py",
   "mimetype": "text/x-python",
   "name": "python",
   "nbconvert_exporter": "python",
   "pygments_lexer": "ipython3",
   "version": "3.12.2"
  }
 },
 "nbformat": 4,
 "nbformat_minor": 5
}

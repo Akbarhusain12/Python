{
 "cells": [
  {
   "cell_type": "code",
   "execution_count": 1,
   "id": "30358504-db8c-4d6e-9f21-040519168248",
   "metadata": {},
   "outputs": [
    {
     "name": "stdin",
     "output_type": "stream",
     "text": [
      "enter a radius 5\n"
     ]
    },
    {
     "name": "stdout",
     "output_type": "stream",
     "text": [
      "78.5\n"
     ]
    }
   ],
   "source": [
    "radius = int(input(\"enter a radius\"))\n",
    "pi = 3.14\n",
    "\n",
    "area = pi * radius ** 2\n",
    "\n",
    "print(area)"
   ]
  },
  {
   "cell_type": "code",
   "execution_count": 2,
   "id": "5c7fd552-e645-4312-ab1a-cab9cd1212e2",
   "metadata": {},
   "outputs": [
    {
     "name": "stdin",
     "output_type": "stream",
     "text": [
      "Enter a number 34\n"
     ]
    },
    {
     "name": "stdout",
     "output_type": "stream",
     "text": [
      "Number is Even\n"
     ]
    }
   ],
   "source": [
    "x = int(input(\"Enter a number\"))\n",
    "if x%2 == 0:\n",
    "    print(\"Number is Even\")\n",
    "else:\n",
    "    print(\"Number is Odd\")"
   ]
  },
  {
   "cell_type": "code",
   "execution_count": 3,
   "id": "21355f2d-8eee-4f10-8384-1dd9e4e14c06",
   "metadata": {},
   "outputs": [
    {
     "name": "stdin",
     "output_type": "stream",
     "text": [
      "Enter a number 23\n"
     ]
    },
    {
     "name": "stdout",
     "output_type": "stream",
     "text": [
      "Number is positive\n"
     ]
    }
   ],
   "source": [
    "y = int(input(\"Enter a number\"))\n",
    "\n",
    "if y == 0:\n",
    "    print(\"Number is Zero\")\n",
    "elif y > 0:\n",
    "    print(\"Number is positive\")\n",
    "elif y < 0:\n",
    "    print(\"Number is negative\")\n",
    "else:\n",
    "    print(\"Enter a valid number\")"
   ]
  },
  {
   "cell_type": "code",
   "execution_count": 5,
   "id": "ae3eb77d-8349-40b3-b892-52f099473197",
   "metadata": {},
   "outputs": [
    {
     "name": "stdin",
     "output_type": "stream",
     "text": [
      "Enter a number:  5\n"
     ]
    },
    {
     "name": "stdout",
     "output_type": "stream",
     "text": [
      "5 x 1 = 5\n",
      "5 x 2 = 10\n",
      "5 x 3 = 15\n",
      "5 x 4 = 20\n",
      "5 x 5 = 25\n",
      "5 x 6 = 30\n",
      "5 x 7 = 35\n",
      "5 x 8 = 40\n",
      "5 x 9 = 45\n",
      "5 x 10 = 50\n"
     ]
    }
   ],
   "source": [
    "number = int(input(\"Enter a number: \"))\n",
    "for i in range(1, 11):\n",
    "    print(f\"{number} x {i} = {number * i}\")"
   ]
  },
  {
   "cell_type": "code",
   "execution_count": 5,
   "id": "05c349ce-8fa8-4229-885d-cd2f8e2e770f",
   "metadata": {},
   "outputs": [
    {
     "name": "stdin",
     "output_type": "stream",
     "text": [
      " 3\n",
      " 4\n"
     ]
    },
    {
     "name": "stdout",
     "output_type": "stream",
     "text": [
      "Addition = 7\n",
      "Multiplication = 12\n"
     ]
    }
   ],
   "source": [
    "a = int(input())\n",
    "b = int(input())\n",
    "\n",
    "print(f\"Addition = {a + b}\")\n",
    "print(f\"Multiplication = {a * b}\")"
   ]
  },
  {
   "cell_type": "code",
   "execution_count": 7,
   "id": "66e83115-6a8a-4b2c-b0cd-ed0988461c7f",
   "metadata": {},
   "outputs": [
    {
     "name": "stdin",
     "output_type": "stream",
     "text": [
      " 1\n"
     ]
    },
    {
     "name": "stdout",
     "output_type": "stream",
     "text": [
      "Number is prime\n"
     ]
    }
   ],
   "source": [
    "c = int(input())\n",
    "\n",
    "for i in range(2,c):\n",
    "    if c%i == 0:\n",
    "        print(\"Number is Not prime\")\n",
    "        break\n",
    "else:\n",
    "    print(\"Number is prime\")"
   ]
  },
  {
   "cell_type": "code",
   "execution_count": 7,
   "id": "13591f7c-fc22-44c4-8510-9d9ca7ed1637",
   "metadata": {},
   "outputs": [
    {
     "name": "stdin",
     "output_type": "stream",
     "text": [
      " 23\n"
     ]
    },
    {
     "name": "stdout",
     "output_type": "stream",
     "text": [
      "23 is a prime number\n"
     ]
    }
   ],
   "source": [
    "num = int(input())\n",
    "\n",
    "flag = False\n",
    "if num == 0 or num == 1:\n",
    "    print(num, \"is not a prime number\")\n",
    "elif num > 1:\n",
    "    for i in range(2, num):\n",
    "        if (num % i) == 0:\n",
    "            flag = True\n",
    "            break\n",
    "\n",
    "\n",
    "if flag:\n",
    "    print(num, \"is not a prime number\")\n",
    "else:\n",
    "    print(num, \"is a prime number\")"
   ]
  },
  {
   "cell_type": "code",
   "execution_count": 8,
   "id": "e9d7caf5-594b-4ffd-b2c2-969ee69bf3b5",
   "metadata": {},
   "outputs": [
    {
     "name": "stdin",
     "output_type": "stream",
     "text": [
      " 23\n",
      " 34\n",
      " 45\n"
     ]
    },
    {
     "name": "stdout",
     "output_type": "stream",
     "text": [
      "R is greatest\n"
     ]
    }
   ],
   "source": [
    "p = int(input())\n",
    "q = int(input())\n",
    "r = int(input())\n",
    "\n",
    "if p > q and p > r:\n",
    "    print(\"P is greatest\")\n",
    "elif q > p and q > r:\n",
    "    print(\"Q is greatest\")\n",
    "else:\n",
    "    print(\"R is greatest\")"
   ]
  },
  {
   "cell_type": "code",
   "execution_count": 9,
   "id": "1ecd4eef-5b65-48b3-88cd-ddaac5da9f99",
   "metadata": {},
   "outputs": [
    {
     "name": "stdin",
     "output_type": "stream",
     "text": [
      " 5\n"
     ]
    },
    {
     "name": "stdout",
     "output_type": "stream",
     "text": [
      "120\n"
     ]
    }
   ],
   "source": [
    "fact = 1\n",
    "num1 = int(input())\n",
    "\n",
    "for i in range(1,num1+1):\n",
    "    fact = fact * i\n",
    "\n",
    "print(fact)"
   ]
  },
  {
   "cell_type": "code",
   "execution_count": 10,
   "id": "18f757ef-2cf9-443e-be84-90cf29581c97",
   "metadata": {},
   "outputs": [
    {
     "name": "stdin",
     "output_type": "stream",
     "text": [
      "Enter your marks 67\n"
     ]
    },
    {
     "name": "stdout",
     "output_type": "stream",
     "text": [
      "C\n"
     ]
    }
   ],
   "source": [
    "marks = int(input(\"Enter your marks\"))\n",
    "\n",
    "if marks > 0 and marks <= 100:\n",
    "    if marks>=90:\n",
    "        print(\"A\")\n",
    "    elif marks >= 75 and marks <90:\n",
    "        print(\"B\")\n",
    "    elif marks >= 50 and marks < 75:\n",
    "        print(\"C\")\n",
    "    else:\n",
    "        print(\"Fail\")\n",
    "else:\n",
    "    print(\"Enter a valid marks\")"
   ]
  },
  {
   "cell_type": "code",
   "execution_count": 10,
   "id": "df0fcca8-128a-42ff-ae90-9352a8919b04",
   "metadata": {},
   "outputs": [
    {
     "name": "stdout",
     "output_type": "stream",
     "text": [
      "2550\n"
     ]
    }
   ],
   "source": [
    "sum = 0\n",
    "for i in range(1,101):\n",
    "    if i%2 == 0:\n",
    "        sum += i\n",
    "\n",
    "print(sum)"
   ]
  },
  {
   "cell_type": "code",
   "execution_count": 14,
   "id": "5c35e027-e659-4582-81dd-52de195b3bc8",
   "metadata": {},
   "outputs": [
    {
     "name": "stdin",
     "output_type": "stream",
     "text": [
      " MOM\n"
     ]
    },
    {
     "name": "stdout",
     "output_type": "stream",
     "text": [
      "String is palindrome\n"
     ]
    }
   ],
   "source": [
    "def check_palindrom(str):\n",
    "    if str == str[::-1]:\n",
    "        print(\"String is palindrome\")\n",
    "    else:\n",
    "        print(\"String is not palindrome\")\n",
    "\n",
    "s = input()\n",
    "check_palindrom(s)"
   ]
  },
  {
   "cell_type": "code",
   "execution_count": 17,
   "id": "bc18025b-78ad-4589-ae2f-9d80e3efc71e",
   "metadata": {},
   "outputs": [
    {
     "name": "stdin",
     "output_type": "stream",
     "text": [
      "Enter the number:  121\n"
     ]
    },
    {
     "name": "stdout",
     "output_type": "stream",
     "text": [
      "1\n",
      "1\n",
      "12\n",
      "2\n",
      "12\n",
      "1\n",
      "1\n",
      "121\n",
      "0\n",
      "The reverse number is:  121\n",
      "The number is a palindrome\n"
     ]
    }
   ],
   "source": [
    "number = int(input(\"Enter the number: \"))\n",
    "temp = number\n",
    "reverse =0\n",
    " \n",
    "while (number > 0):\n",
    "    dig = number % 10\n",
    "    print(dig)\n",
    "    reverse = reverse * 10 + dig\n",
    "    print(reverse)\n",
    "    number = number // 10\n",
    "    print(number)\n",
    " \n",
    "print(\"The reverse number is: \", reverse)\n",
    " \n",
    "if temp==reverse:\n",
    "    print(\"The number is a palindrome\")\n",
    "else:\n",
    "    print(\"The number is not a palindrome\")    "
   ]
  },
  {
   "cell_type": "code",
   "execution_count": 9,
   "id": "bc1f7ca3-89ad-42c1-a597-9d22e1b7139f",
   "metadata": {},
   "outputs": [
    {
     "name": "stdout",
     "output_type": "stream",
     "text": [
      "0\n",
      "1\n",
      "1\n",
      "2\n",
      "3\n",
      "5\n",
      "8\n",
      "13\n",
      "21\n",
      "34\n",
      "55\n",
      "89\n"
     ]
    }
   ],
   "source": [
    "def fibonacci_series(x1):\n",
    "    a, b = 0, 1  \n",
    "    for i in range(x1+1):\n",
    "        print(a)  \n",
    "        a, b = b, a + b  \n",
    "\n",
    "fibonacci_series(11)"
   ]
  },
  {
   "cell_type": "code",
   "execution_count": 20,
   "id": "009c1d8e-f0a4-4c4e-9da7-4cba856d3990",
   "metadata": {},
   "outputs": [
    {
     "name": "stdout",
     "output_type": "stream",
     "text": [
      "40\n"
     ]
    }
   ],
   "source": [
    "e = 10\n",
    "r = 30\n",
    "p = lambda e,r : e + r\n",
    "print(p(e,r))"
   ]
  },
  {
   "cell_type": "code",
   "execution_count": 32,
   "id": "64ea04c0-242c-49fa-8e83-a700af7ed7f7",
   "metadata": {},
   "outputs": [
    {
     "name": "stdout",
     "output_type": "stream",
     "text": [
      "{'A': 1, 'k': 1, 'b': 1, 'a': 2, 'r': 1, 'h': 1, 'u': 1, 's': 1, 'i': 1, 'n': 1}\n"
     ]
    }
   ],
   "source": [
    "def count_freq(s):\n",
    "    freq = {}\n",
    "    for c in s:\n",
    "        if c in freq:\n",
    "            freq[c] += 1\n",
    "        else:\n",
    "            freq[c] = 1\n",
    "    return freq\n",
    "\n",
    "s = \"Akbarhusain\"\n",
    "print(count_freq(s))"
   ]
  },
  {
   "cell_type": "code",
   "execution_count": 49,
   "id": "a2c4f153-9f38-4837-b255-45f339db85e2",
   "metadata": {},
   "outputs": [
    {
     "name": "stdout",
     "output_type": "stream",
     "text": [
      "[1, 4, 9, 16]\n"
     ]
    }
   ],
   "source": [
    "a = {1, 2, 3, 4}\n",
    "res = list(map(lambda x: x ** 2, a))\n",
    "print(res)"
   ]
  },
  {
   "cell_type": "code",
   "execution_count": 51,
   "id": "3d5561e3-c689-4adc-9906-abd4acb32473",
   "metadata": {},
   "outputs": [
    {
     "name": "stdout",
     "output_type": "stream",
     "text": [
      "[2.0, 4.0, 5.0, 6.0, 7.0]\n"
     ]
    }
   ],
   "source": [
    "from math import sqrt\n",
    "\n",
    "numbers = [4, 16, 25, 36, 49]\n",
    "square_roots = [sqrt(num) for num in numbers]\n",
    "\n",
    "print(square_roots)"
   ]
  },
  {
   "cell_type": "code",
   "execution_count": 19,
   "id": "433c42d5-787c-41b9-bb5f-fda85f171e51",
   "metadata": {},
   "outputs": [
    {
     "name": "stdout",
     "output_type": "stream",
     "text": [
      "1000\n"
     ]
    }
   ],
   "source": [
    "numbers = [10, 20, 4, 45, 99, 100,2389,1000]\n",
    "max1 = numbers[0]\n",
    "second = 0\n",
    "\n",
    "for i in numbers:\n",
    "    if i > max1:\n",
    "        second = max1\n",
    "        max1 = i\n",
    "    elif i > second and i != max1:\n",
    "        second = i\n",
    "        \n",
    "print(second)        \n",
    "    "
   ]
  },
  {
   "cell_type": "code",
   "execution_count": 12,
   "id": "7363297d-063c-46bb-b5ed-febaf78447f8",
   "metadata": {},
   "outputs": [
    {
     "name": "stdout",
     "output_type": "stream",
     "text": [
      "There is no second largest number (all numbers may be the same).\n",
      "There is no second largest number (all numbers may be the same).\n",
      "There is no second largest number (all numbers may be the same).\n",
      "There is no second largest number (all numbers may be the same).\n",
      "There is no second largest number (all numbers may be the same).\n",
      "There is no second largest number (all numbers may be the same).\n",
      "The second largest number is: 99\n"
     ]
    }
   ],
   "source": [
    "numbers = [10, 20, 4, 45, 99, 100]\n",
    "\n",
    "if len(numbers) < 2:\n",
    "    print(\"List must contain at least two distinct numbers.\")\n",
    "    \n",
    "else:\n",
    "    first = second = float('-inf')\n",
    "    \n",
    "    for number in numbers:\n",
    "        \n",
    "        if number > first:\n",
    "            second = first\n",
    "            first = number\n",
    "            \n",
    "        elif first > number > second:\n",
    "            second = number  \n",
    "\n",
    "    \n",
    "        print(\"There is no second largest number (all numbers may be the same).\")\n",
    "        \n",
    "    else:\n",
    "        print(\"The second largest number is:\", second)\n"
   ]
  },
  {
   "cell_type": "code",
   "execution_count": 23,
   "id": "87a68f02-baed-4beb-a4c0-76657088d5bb",
   "metadata": {},
   "outputs": [
    {
     "name": "stdout",
     "output_type": "stream",
     "text": [
      "[1, 2, 3, 4, 5]\n"
     ]
    }
   ],
   "source": [
    "numbers = [1, 2, 2, 3, 4, 4, 5]\n",
    "unique_numbers = []\n",
    "for i in numbers:\n",
    "    if i not in unique_numbers:\n",
    "        unique_numbers.append(i)\n",
    "print(unique_numbers)"
   ]
  },
  {
   "cell_type": "code",
   "execution_count": 65,
   "id": "75774721-dd69-4eb1-bead-dcdde43e683f",
   "metadata": {},
   "outputs": [
    {
     "name": "stdout",
     "output_type": "stream",
     "text": [
      "{2, 3, 4, 5, 6, 7, 24}\n"
     ]
    }
   ],
   "source": [
    "list4 = [2, 3, 4, 5, 5, 6, 3, 2, 24, 5, 6, 7, 2]\n",
    "\n",
    "result = set(list4)\n",
    "print(result)"
   ]
  },
  {
   "cell_type": "code",
   "execution_count": 26,
   "id": "8481de79-8d9d-4c82-b750-94423f324e34",
   "metadata": {},
   "outputs": [
    {
     "name": "stdout",
     "output_type": "stream",
     "text": [
      "[1, 9, 25, 49, 81, 121, 169, 225, 289, 361]\n"
     ]
    }
   ],
   "source": [
    "list5 = [x**2   for x in range(0,21)     if x%2 != 0]\n",
    "print(list5)"
   ]
  },
  {
   "cell_type": "code",
   "execution_count": 27,
   "id": "17aa0b29-4423-4372-81e4-227f53a74bba",
   "metadata": {},
   "outputs": [
    {
     "name": "stdout",
     "output_type": "stream",
     "text": [
      "Yes, it is present\n"
     ]
    }
   ],
   "source": [
    "list6 = [10, 40, 30, 70, 50]\n",
    "\n",
    "for i in list6:\n",
    "    if i == 30:\n",
    "        print(\"Yes, it is present\")\n",
    "        break\n",
    "else:\n",
    "    print(\"Nope, it's Not present\")"
   ]
  },
  {
   "cell_type": "code",
   "execution_count": 31,
   "id": "1cabccbd-7c46-4381-9fa5-42454f13f476",
   "metadata": {},
   "outputs": [
    {
     "name": "stdin",
     "output_type": "stream",
     "text": [
      "Enter the number of elements:  4\n",
      "Enter element 1:  10\n",
      "Enter element 2:  20\n",
      "Enter element 3:  30\n",
      "Enter element 4:  40\n"
     ]
    },
    {
     "name": "stdout",
     "output_type": "stream",
     "text": [
      "25.0\n"
     ]
    }
   ],
   "source": [
    "n = int(input(\"Enter the number of elements: \"))\n",
    "lst = []\n",
    "mean = 0\n",
    "\n",
    "for i in range(n):\n",
    "    ele = int(input(f\"Enter element {i + 1}: \"))\n",
    "    lst.append(ele)\n",
    "\n",
    "for i in lst:\n",
    "    mean += i\n",
    "\n",
    "print(mean/len(lst))"
   ]
  },
  {
   "cell_type": "code",
   "execution_count": 37,
   "id": "32212232-40dc-4b03-8ae5-f0fa5d9655b2",
   "metadata": {},
   "outputs": [
    {
     "name": "stdout",
     "output_type": "stream",
     "text": [
      "11\n"
     ]
    }
   ],
   "source": [
    "str4 = \"The quick brown fox jumps over the lazy dog\"\n",
    "vowel = ['a','e','i','o','u']\n",
    "count = 0\n",
    "for i in str4.lower():\n",
    "    if i in vowel:\n",
    "        count += 1\n",
    "\n",
    "print(count)"
   ]
  },
  {
   "cell_type": "code",
   "execution_count": 44,
   "id": "4b46fc4a-c052-4a43-886c-409c49704aeb",
   "metadata": {},
   "outputs": [
    {
     "name": "stdin",
     "output_type": "stream",
     "text": [
      "Enter the range of numbers:  4\n"
     ]
    },
    {
     "name": "stdout",
     "output_type": "stream",
     "text": [
      "{1: {'Square': 1, 'Cube': 1}, 2: {'Square': 4, 'Cube': 8}, 3: {'Square': 9, 'Cube': 27}, 4: {'Square': 16, 'Cube': 64}}\n"
     ]
    }
   ],
   "source": [
    "n = int(input(\"Enter the range of numbers: \"))\n",
    "\n",
    "result = {x:{\"Square\": x**2, \"Cube\": x**3} for x in range(1,n+1)}\n",
    "print(result)"
   ]
  },
  {
   "cell_type": "code",
   "execution_count": 47,
   "id": "2a2543cb-a802-4d52-8851-5f360851044b",
   "metadata": {},
   "outputs": [
    {
     "name": "stdin",
     "output_type": "stream",
     "text": [
      "Enter a number 2\n",
      "Enter a number 3\n"
     ]
    },
    {
     "name": "stdout",
     "output_type": "stream",
     "text": [
      "Area: 3.0, Perimeter: 10.0\n"
     ]
    }
   ],
   "source": [
    "class Rectangle:\n",
    "    def __init__(self, x, y):\n",
    "        self.length = x\n",
    "        self.width = y\n",
    "        \n",
    "    def area(self):\n",
    "        return 0.5 * self.length * self.width\n",
    "    def perimeter(self):\n",
    "        return (self.length + self.width) * 2\n",
    "\n",
    "x = float(input(\"Enter a number\"))\n",
    "y = float(input(\"Enter a number\"))\n",
    "c = Rectangle(x,y)\n",
    "print(f\"Area: {c.area()}, Perimeter: {c.perimeter()}\")"
   ]
  },
  {
   "cell_type": "code",
   "execution_count": 52,
   "id": "16bb0d77-fceb-490f-8968-da748102b9d6",
   "metadata": {},
   "outputs": [
    {
     "name": "stdin",
     "output_type": "stream",
     "text": [
      " akbar\n",
      " 29\n"
     ]
    },
    {
     "name": "stdout",
     "output_type": "stream",
     "text": [
      "Name - akbar, Age - 29\n"
     ]
    }
   ],
   "source": [
    "class Person:\n",
    "    def __init__(self,name,age):\n",
    "        self.name = name\n",
    "        self.age = age\n",
    "    def display(self):\n",
    "        print(f'Name - {self.name}, Age - {self.age}')\n",
    "        \n",
    "x = input()\n",
    "y = int(input())\n",
    "p = Person(x,y)\n",
    "p.display()"
   ]
  },
  {
   "cell_type": "code",
   "execution_count": 134,
   "id": "d91205ed-2249-40ea-b306-000a2db56db4",
   "metadata": {},
   "outputs": [
    {
     "name": "stdout",
     "output_type": "stream",
     "text": [
      "Deposited 1000\n",
      "Withdrew: 400\n",
      "Current Balance: 600\n"
     ]
    }
   ],
   "source": [
    "class BankAccount:\n",
    "    def __init__(self):\n",
    "        self.__balance = 0\n",
    "\n",
    "    def deposit(self,amount):\n",
    "        if amount > 0:\n",
    "            self.__balance += amount\n",
    "            print(f\"Deposited {amount}\")\n",
    "        else:\n",
    "            print(\"Deposit amount must be positive!\")\n",
    "            \n",
    "    def withdraw(self,amount):\n",
    "        if amount < 0 and amount < self.__balance:\n",
    "            print(\"Insufficient balance in your account\")\n",
    "        else:\n",
    "            self.__balance -= amount\n",
    "            print(f\"Withdrew: {amount}\")\n",
    "            \n",
    "    def getBalance(self):\n",
    "        print(f\"Current Balance: {self.__balance}\")\n",
    "\n",
    "m = BankAccount()\n",
    "m.deposit(1000)\n",
    "m.withdraw(400)\n",
    "m.getBalance()"
   ]
  },
  {
   "cell_type": "code",
   "execution_count": 142,
   "id": "e1885a2d-ba4d-4957-8e12-dee7a658634d",
   "metadata": {},
   "outputs": [
    {
     "name": "stdout",
     "output_type": "stream",
     "text": [
      "Your Car Name is - 'BMW' & color is - 'WHITE'\n"
     ]
    }
   ],
   "source": [
    "class Car:\n",
    "    def __init__(self,name,color):\n",
    "        self.name = name\n",
    "        self.color = color\n",
    "        \n",
    "class Sportcar(Car):\n",
    "    def details(self):\n",
    "        print(f\"Your Car Name is - '{self.name}' & color is - '{self.color}'\")\n",
    "\n",
    "s = Sportcar(\"BMW\", \"WHITE\")\n",
    "s.details()"
   ]
  },
  {
   "cell_type": "code",
   "execution_count": 149,
   "id": "77088978-c67e-401f-b596-ed729c6f167b",
   "metadata": {},
   "outputs": [
    {
     "name": "stdin",
     "output_type": "stream",
     "text": [
      "Enter numerator:  100\n",
      "Enter denominator:  2\n"
     ]
    },
    {
     "name": "stdout",
     "output_type": "stream",
     "text": [
      "Result: 50.0\n"
     ]
    }
   ],
   "source": [
    "try:\n",
    "    numer = int(input(\"Enter numerator: \"))\n",
    "    denom = int(input(\"Enter denominator: \"))\n",
    "\n",
    "    result = numer / denom\n",
    "    print(\"Result:\", result)\n",
    "    \n",
    "except ZeroDivisionError:\n",
    "    print(\"Error: Denominator cannot be zero!\")\n",
    "    \n",
    "except ValueError:\n",
    "    print(\"Error: Please enter valid integers.\")"
   ]
  },
  {
   "cell_type": "code",
   "execution_count": 53,
   "id": "93263299-e82e-44c5-b16f-74d98f7e0c87",
   "metadata": {},
   "outputs": [
    {
     "name": "stdin",
     "output_type": "stream",
     "text": [
      " 4\n"
     ]
    },
    {
     "name": "stdout",
     "output_type": "stream",
     "text": [
      "Your Number is Low.. Enter higher Number\n"
     ]
    },
    {
     "name": "stdin",
     "output_type": "stream",
     "text": [
      " 4\n"
     ]
    },
    {
     "name": "stdout",
     "output_type": "stream",
     "text": [
      "Your Number is Low.. Enter higher Number\n"
     ]
    },
    {
     "name": "stdin",
     "output_type": "stream",
     "text": [
      " 5\n"
     ]
    },
    {
     "name": "stdout",
     "output_type": "stream",
     "text": [
      "Your Number is Low.. Enter higher Number\n"
     ]
    },
    {
     "name": "stdin",
     "output_type": "stream",
     "text": [
      " 5\n"
     ]
    },
    {
     "name": "stdout",
     "output_type": "stream",
     "text": [
      "Your Number is Low.. Enter higher Number\n"
     ]
    },
    {
     "name": "stdin",
     "output_type": "stream",
     "text": [
      " 3\n"
     ]
    },
    {
     "name": "stdout",
     "output_type": "stream",
     "text": [
      "Your Number is Low.. Enter higher Number\n",
      "\n",
      "\n",
      "Nope!!!! Your Try is Over Please try it again later, The Number was 48\n"
     ]
    }
   ],
   "source": [
    "try:\n",
    "    a = 48\n",
    "    for i in range(1,6):\n",
    "        n = int(input())\n",
    "        if a == n:\n",
    "            print(\"Wow! You Guess it Right\")\n",
    "            break\n",
    "        elif n < a:\n",
    "            print(\"Your Number is Low.. Enter higher Number\")\n",
    "            \n",
    "        elif n > a:\n",
    "            print(\"Your Number is High.. Enter lower Number\")\n",
    "    else:\n",
    "        print(\"\\n\")\n",
    "        print(f\"Nope!!!! Your Try is Over Please try it again later, The Number was {a}\")\n",
    "    \n",
    "except Exception:\n",
    "    print(\"Error\")"
   ]
  },
  {
   "cell_type": "code",
   "execution_count": 61,
   "id": "5cd73b54-f29c-413f-aca2-1cae6825f93f",
   "metadata": {},
   "outputs": [
    {
     "name": "stdout",
     "output_type": "stream",
     "text": [
      "[8, 12, 16, 20, 24, 28, 32, 36, 40, 44, 48]\n",
      "[8, 12, 16, 20, 24, 28, 32, 36, 40, 44, 48]\n"
     ]
    }
   ],
   "source": [
    "divisible_numbers = [x for x in range(5,51) if x%2 == 0 and x%4 == 0]\n",
    "print(divisible_numbers)\n",
    "\n",
    "divisible_numbers_loop = []\n",
    "for i in range(5,51):\n",
    "    if i%2 == 0 and i%4 == 0:\n",
    "        divisible_numbers_loop.append(i)\n",
    "\n",
    "print(divisible_numbers_loop)"
   ]
  },
  {
   "cell_type": "code",
   "execution_count": null,
   "id": "f969d503-a812-4f20-8857-b025fca63676",
   "metadata": {},
   "outputs": [],
   "source": []
  }
 ],
 "metadata": {
  "kernelspec": {
   "display_name": "Python 3 (ipykernel)",
   "language": "python",
   "name": "python3"
  },
  "language_info": {
   "codemirror_mode": {
    "name": "ipython",
    "version": 3
   },
   "file_extension": ".py",
   "mimetype": "text/x-python",
   "name": "python",
   "nbconvert_exporter": "python",
   "pygments_lexer": "ipython3",
   "version": "3.12.2"
  }
 },
 "nbformat": 4,
 "nbformat_minor": 5
}

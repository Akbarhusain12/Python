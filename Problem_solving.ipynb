{
 "cells": [
  {
   "cell_type": "code",
   "execution_count": 1,
   "id": "30358504-db8c-4d6e-9f21-040519168248",
   "metadata": {},
   "outputs": [
    {
     "name": "stdin",
     "output_type": "stream",
     "text": [
      "enter a radius 5\n"
     ]
    },
    {
     "name": "stdout",
     "output_type": "stream",
     "text": [
      "78.5\n"
     ]
    }
   ],
   "source": [
    "radius = int(input(\"enter a radius\"))\n",
    "pi = 3.14\n",
    "\n",
    "area = pi * radius ** 2\n",
    "\n",
    "print(area)"
   ]
  },
  {
   "cell_type": "code",
   "execution_count": 2,
   "id": "5c7fd552-e645-4312-ab1a-cab9cd1212e2",
   "metadata": {},
   "outputs": [
    {
     "name": "stdin",
     "output_type": "stream",
     "text": [
      "Enter a number 34\n"
     ]
    },
    {
     "name": "stdout",
     "output_type": "stream",
     "text": [
      "Number is Even\n"
     ]
    }
   ],
   "source": [
    "x = int(input(\"Enter a number\"))\n",
    "if x%2 == 0:\n",
    "    print(\"Number is Even\")\n",
    "else:\n",
    "    print(\"Number is Odd\")"
   ]
  },
  {
   "cell_type": "code",
   "execution_count": 3,
   "id": "21355f2d-8eee-4f10-8384-1dd9e4e14c06",
   "metadata": {},
   "outputs": [
    {
     "name": "stdin",
     "output_type": "stream",
     "text": [
      "Enter a number 23\n"
     ]
    },
    {
     "name": "stdout",
     "output_type": "stream",
     "text": [
      "Number is positive\n"
     ]
    }
   ],
   "source": [
    "y = int(input(\"Enter a number\"))\n",
    "\n",
    "if y == 0:\n",
    "    print(\"Number is Zero\")\n",
    "elif y > 0:\n",
    "    print(\"Number is positive\")\n",
    "elif y < 0:\n",
    "    print(\"Number is negative\")\n",
    "else:\n",
    "    print(\"Enter a valid number\")"
   ]
  },
  {
   "cell_type": "code",
   "execution_count": 4,
   "id": "ae3eb77d-8349-40b3-b892-52f099473197",
   "metadata": {},
   "outputs": [
    {
     "name": "stdin",
     "output_type": "stream",
     "text": [
      "Enter a number 4\n"
     ]
    },
    {
     "name": "stdout",
     "output_type": "stream",
     "text": [
      "4 * 0 = 0\n",
      "4 * 1 = 4\n",
      "4 * 2 = 8\n",
      "4 * 3 = 12\n",
      "4 * 4 = 16\n",
      "4 * 5 = 20\n",
      "4 * 6 = 24\n",
      "4 * 7 = 28\n",
      "4 * 8 = 32\n",
      "4 * 9 = 36\n",
      "4 * 10 = 40\n",
      "\n",
      "\n"
     ]
    }
   ],
   "source": [
    "z = int(input(\"Enter a number\"))\n",
    "\n",
    "for i in range(z,z+1):\n",
    "    for j in range(0,11):\n",
    "        print(f\"{i} * {j} = {i * j}\")\n",
    "    print(\"\\n\")"
   ]
  },
  {
   "cell_type": "code",
   "execution_count": 5,
   "id": "05c349ce-8fa8-4229-885d-cd2f8e2e770f",
   "metadata": {},
   "outputs": [
    {
     "name": "stdin",
     "output_type": "stream",
     "text": [
      " 3\n",
      " 4\n"
     ]
    },
    {
     "name": "stdout",
     "output_type": "stream",
     "text": [
      "Addition = 7\n",
      "Multiplication = 12\n"
     ]
    }
   ],
   "source": [
    "a = int(input())\n",
    "b = int(input())\n",
    "\n",
    "print(f\"Addition = {a + b}\")\n",
    "print(f\"Multiplication = {a * b}\")"
   ]
  },
  {
   "cell_type": "code",
   "execution_count": 6,
   "id": "66e83115-6a8a-4b2c-b0cd-ed0988461c7f",
   "metadata": {},
   "outputs": [
    {
     "name": "stdin",
     "output_type": "stream",
     "text": [
      " 23\n"
     ]
    },
    {
     "name": "stdout",
     "output_type": "stream",
     "text": [
      "Number is prime\n"
     ]
    }
   ],
   "source": [
    "c = int(input())\n",
    "\n",
    "for i in range(2,c):\n",
    "    if c%i == 0:\n",
    "        print(\"Number is Not prime\")\n",
    "        break\n",
    "else:\n",
    "    print(\"Number is prime\")"
   ]
  },
  {
   "cell_type": "code",
   "execution_count": 7,
   "id": "13591f7c-fc22-44c4-8510-9d9ca7ed1637",
   "metadata": {},
   "outputs": [
    {
     "name": "stdin",
     "output_type": "stream",
     "text": [
      " 23\n"
     ]
    },
    {
     "name": "stdout",
     "output_type": "stream",
     "text": [
      "23 is a prime number\n"
     ]
    }
   ],
   "source": [
    "num = int(input())\n",
    "\n",
    "flag = False\n",
    "if num == 0 or num == 1:\n",
    "    print(num, \"is not a prime number\")\n",
    "elif num > 1:\n",
    "    for i in range(2, num):\n",
    "        if (num % i) == 0:\n",
    "            flag = True\n",
    "            break\n",
    "\n",
    "\n",
    "if flag:\n",
    "    print(num, \"is not a prime number\")\n",
    "else:\n",
    "    print(num, \"is a prime number\")"
   ]
  },
  {
   "cell_type": "code",
   "execution_count": 8,
   "id": "e9d7caf5-594b-4ffd-b2c2-969ee69bf3b5",
   "metadata": {},
   "outputs": [
    {
     "name": "stdin",
     "output_type": "stream",
     "text": [
      " 23\n",
      " 34\n",
      " 45\n"
     ]
    },
    {
     "name": "stdout",
     "output_type": "stream",
     "text": [
      "R is greatest\n"
     ]
    }
   ],
   "source": [
    "p = int(input())\n",
    "q = int(input())\n",
    "r = int(input())\n",
    "\n",
    "if p > q and p > r:\n",
    "    print(\"P is greatest\")\n",
    "elif q > p and q > r:\n",
    "    print(\"Q is greatest\")\n",
    "else:\n",
    "    print(\"R is greatest\")"
   ]
  },
  {
   "cell_type": "code",
   "execution_count": 9,
   "id": "1ecd4eef-5b65-48b3-88cd-ddaac5da9f99",
   "metadata": {},
   "outputs": [
    {
     "name": "stdin",
     "output_type": "stream",
     "text": [
      " 5\n"
     ]
    },
    {
     "name": "stdout",
     "output_type": "stream",
     "text": [
      "120\n"
     ]
    }
   ],
   "source": [
    "fact = 1\n",
    "num1 = int(input())\n",
    "\n",
    "for i in range(1,num1+1):\n",
    "    fact = fact * i\n",
    "\n",
    "print(fact)"
   ]
  },
  {
   "cell_type": "code",
   "execution_count": 10,
   "id": "18f757ef-2cf9-443e-be84-90cf29581c97",
   "metadata": {},
   "outputs": [
    {
     "name": "stdin",
     "output_type": "stream",
     "text": [
      "Enter your marks 67\n"
     ]
    },
    {
     "name": "stdout",
     "output_type": "stream",
     "text": [
      "C\n"
     ]
    }
   ],
   "source": [
    "marks = int(input(\"Enter your marks\"))\n",
    "\n",
    "if marks > 0 and marks <= 100:\n",
    "    if marks>=90:\n",
    "        print(\"A\")\n",
    "    elif marks >= 75 and marks <90:\n",
    "        print(\"B\")\n",
    "    elif marks >= 50 and marks < 75:\n",
    "        print(\"C\")\n",
    "    else:\n",
    "        print(\"Fail\")\n",
    "else:\n",
    "    print(\"Enter a valid marks\")"
   ]
  },
  {
   "cell_type": "code",
   "execution_count": 11,
   "id": "df0fcca8-128a-42ff-ae90-9352a8919b04",
   "metadata": {},
   "outputs": [
    {
     "name": "stdout",
     "output_type": "stream",
     "text": [
      "2500\n"
     ]
    }
   ],
   "source": [
    "sum = 0\n",
    "for i in range(1,101):\n",
    "    if i%2 != 0:\n",
    "        sum += i\n",
    "\n",
    "print(sum)"
   ]
  },
  {
   "cell_type": "code",
   "execution_count": 14,
   "id": "5c35e027-e659-4582-81dd-52de195b3bc8",
   "metadata": {},
   "outputs": [
    {
     "name": "stdin",
     "output_type": "stream",
     "text": [
      " MOM\n"
     ]
    },
    {
     "name": "stdout",
     "output_type": "stream",
     "text": [
      "String is palindrome\n"
     ]
    }
   ],
   "source": [
    "def check_palindrom(str):\n",
    "    if str == str[::-1]:\n",
    "        print(\"String is palindrome\")\n",
    "    else:\n",
    "        print(\"String is not palindrome\")\n",
    "\n",
    "s = input()\n",
    "check_palindrom(s)"
   ]
  },
  {
   "cell_type": "code",
   "execution_count": 17,
   "id": "bc18025b-78ad-4589-ae2f-9d80e3efc71e",
   "metadata": {},
   "outputs": [
    {
     "name": "stdin",
     "output_type": "stream",
     "text": [
      "Enter the number:  121\n"
     ]
    },
    {
     "name": "stdout",
     "output_type": "stream",
     "text": [
      "1\n",
      "1\n",
      "12\n",
      "2\n",
      "12\n",
      "1\n",
      "1\n",
      "121\n",
      "0\n",
      "The reverse number is:  121\n",
      "The number is a palindrome\n"
     ]
    }
   ],
   "source": [
    "number = int(input(\"Enter the number: \"))\n",
    "temp = number\n",
    "reverse =0\n",
    " \n",
    "while (number > 0):\n",
    "    dig = number % 10\n",
    "    print(dig)\n",
    "    reverse = reverse * 10 + dig\n",
    "    print(reverse)\n",
    "    number = number // 10\n",
    "    print(number)\n",
    " \n",
    "print(\"The reverse number is: \", reverse)\n",
    " \n",
    "if temp==reverse:\n",
    "    print(\"The number is a palindrome\")\n",
    "else:\n",
    "    print(\"The number is not a palindrome\")    "
   ]
  },
  {
   "cell_type": "code",
   "execution_count": 18,
   "id": "c455f35d-7769-4873-8ca0-8c2560afa6cd",
   "metadata": {},
   "outputs": [
    {
     "name": "stdout",
     "output_type": "stream",
     "text": [
      "1 1\n",
      "2 3\n",
      "3 6\n",
      "4 10\n",
      "5 15\n"
     ]
    }
   ],
   "source": [
    "def fibonacci_series(x1):\n",
    "    sum = 0\n",
    "    for i in range(1,x1+1):\n",
    "        sum = sum + i\n",
    "        print(i,sum)\n",
    "        \n",
    "fibonacci_series(5)"
   ]
  },
  {
   "cell_type": "code",
   "execution_count": 21,
   "id": "bc1f7ca3-89ad-42c1-a597-9d22e1b7139f",
   "metadata": {},
   "outputs": [
    {
     "name": "stdout",
     "output_type": "stream",
     "text": [
      "0\n",
      "1\n",
      "1\n",
      "2\n",
      "3\n",
      "5\n",
      "8\n",
      "13\n",
      "21\n",
      "34\n",
      "55\n"
     ]
    }
   ],
   "source": [
    "def fibonacci_series(x1):\n",
    "    a, b = 0, 1  \n",
    "    for i in range(x1):\n",
    "        print(a)  \n",
    "        a, b = b, a + b  \n",
    "\n",
    "fibonacci_series(11)"
   ]
  },
  {
   "cell_type": "code",
   "execution_count": 20,
   "id": "009c1d8e-f0a4-4c4e-9da7-4cba856d3990",
   "metadata": {},
   "outputs": [
    {
     "name": "stdout",
     "output_type": "stream",
     "text": [
      "40\n"
     ]
    }
   ],
   "source": [
    "e = 10\n",
    "r = 30\n",
    "p = lambda e,r : e + r\n",
    "print(p(e,r))"
   ]
  },
  {
   "cell_type": "code",
   "execution_count": 39,
   "id": "64ea04c0-242c-49fa-8e83-a700af7ed7f7",
   "metadata": {},
   "outputs": [
    {
     "name": "stdout",
     "output_type": "stream",
     "text": [
      "{'a': 3, 'k': 1, 'b': 1, 'r': 1, 'h': 1, 'u': 1, 's': 1, 'i': 1, 'n': 1}\n"
     ]
    }
   ],
   "source": [
    "def count_freq(s):\n",
    "    freq = {}\n",
    "    for c in s:\n",
    "        if c in freq:\n",
    "            freq[c] += 1\n",
    "        else:\n",
    "            freq[c] = 1\n",
    "    return freq\n",
    "\n",
    "s = \"akbarhusain\"\n",
    "print(count_freq(s))"
   ]
  },
  {
   "cell_type": "code",
   "execution_count": 49,
   "id": "a2c4f153-9f38-4837-b255-45f339db85e2",
   "metadata": {},
   "outputs": [
    {
     "name": "stdout",
     "output_type": "stream",
     "text": [
      "[1, 4, 9, 16]\n"
     ]
    }
   ],
   "source": [
    "a = {1, 2, 3, 4}\n",
    "res = list(map(lambda x: x ** 2, a))\n",
    "print(res)"
   ]
  },
  {
   "cell_type": "code",
   "execution_count": null,
   "id": "3d5561e3-c689-4adc-9906-abd4acb32473",
   "metadata": {},
   "outputs": [],
   "source": []
  }
 ],
 "metadata": {
  "kernelspec": {
   "display_name": "Python 3 (ipykernel)",
   "language": "python",
   "name": "python3"
  },
  "language_info": {
   "codemirror_mode": {
    "name": "ipython",
    "version": 3
   },
   "file_extension": ".py",
   "mimetype": "text/x-python",
   "name": "python",
   "nbconvert_exporter": "python",
   "pygments_lexer": "ipython3",
   "version": "3.12.2"
  }
 },
 "nbformat": 4,
 "nbformat_minor": 5
}

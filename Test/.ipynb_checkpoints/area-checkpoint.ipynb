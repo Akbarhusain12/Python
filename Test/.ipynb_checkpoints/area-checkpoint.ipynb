{
 "cells": [
  {
   "cell_type": "code",
   "execution_count": 1,
   "id": "fab0d895-1c6a-4dfc-b509-64ce0cee32aa",
   "metadata": {},
   "outputs": [
    {
     "name": "stdout",
     "output_type": "stream",
     "text": [
      "Circle Area: 78.5\n",
      "Triangle Area: 3.0\n",
      "Rectangle Area: 6\n"
     ]
    }
   ],
   "source": [
    "import area as a\n",
    "\n",
    "circle_area = a.area_of_circle(5)          \n",
    "triangle_area = a.area_of_triangle(2, 3)   \n",
    "rectangle_area = a.area_of_rectangle(2, 3) \n",
    "print(\"Circle Area:\", circle_area)\n",
    "print(\"Triangle Area:\", triangle_area)\n",
    "print(\"Rectangle Area:\", rectangle_area)"
   ]
  },
  {
   "cell_type": "code",
   "execution_count": null,
   "id": "86304801-12d9-43a8-86a2-9f1b4488f234",
   "metadata": {},
   "outputs": [],
   "source": []
  }
 ],
 "metadata": {
  "kernelspec": {
   "display_name": "Python 3 (ipykernel)",
   "language": "python",
   "name": "python3"
  },
  "language_info": {
   "codemirror_mode": {
    "name": "ipython",
    "version": 3
   },
   "file_extension": ".py",
   "mimetype": "text/x-python",
   "name": "python",
   "nbconvert_exporter": "python",
   "pygments_lexer": "ipython3",
   "version": "3.12.2"
  }
 },
 "nbformat": 4,
 "nbformat_minor": 5
}

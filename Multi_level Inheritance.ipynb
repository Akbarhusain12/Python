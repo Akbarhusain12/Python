{
 "cells": [
  {
   "cell_type": "code",
   "execution_count": 16,
   "id": "cb111d17-600f-4368-89d4-90e1cf1edd9b",
   "metadata": {},
   "outputs": [
    {
     "name": "stdout",
     "output_type": "stream",
     "text": [
      "Name : Akbar, ID : 11, Days: 2, Hours: 48\n",
      "Total Salary Earned:  7500\n"
     ]
    }
   ],
   "source": [
    "class Person:\n",
    "    def __init__(self, name):\n",
    "        self.name = name\n",
    "    def display(self):\n",
    "        print(\"Name : \", self.name)\n",
    "\n",
    "\n",
    "class Staff(Person):\n",
    "    def __init__(self, id1):\n",
    "        self.id1 = id1\n",
    "    def display(self):\n",
    "        print(\"ID : \", self.id1)\n",
    "\n",
    "class TemporaryStaff(Staff):\n",
    "    def __init__(self, name, id1, salary, num_day, hour):\n",
    "        self.name = name\n",
    "        self.id1 = id1\n",
    "        self.salary = salary\n",
    "        self.num_day = num_day\n",
    "        self.hour = hour\n",
    "\n",
    "    def display(self): \n",
    "        print(f\"Name : {self.name}, ID : {self.id1}, Salary: {self.salary}, Days: {self.num_day}, Hours: {self.hour}\")\n",
    "\n",
    "    def Salary(self):\n",
    "        total_hours = self.num_day + self.hour  \n",
    "        tot = total_hours * 150\n",
    "        print(\"Total Salary Earned: \", tot)\n",
    "\n",
    "ts = TemporaryStaff(\"Akbar\", 11, 50000, 2, 48)\n",
    "ts.display()\n",
    "ts.Salary()\n",
    "        "
   ]
  },
  {
   "cell_type": "code",
   "execution_count": null,
   "id": "05002f35-4d95-4d1a-b5f4-5f0c4cbb8fc5",
   "metadata": {},
   "outputs": [],
   "source": []
  }
 ],
 "metadata": {
  "kernelspec": {
   "display_name": "Python 3 (ipykernel)",
   "language": "python",
   "name": "python3"
  },
  "language_info": {
   "codemirror_mode": {
    "name": "ipython",
    "version": 3
   },
   "file_extension": ".py",
   "mimetype": "text/x-python",
   "name": "python",
   "nbconvert_exporter": "python",
   "pygments_lexer": "ipython3",
   "version": "3.12.2"
  }
 },
 "nbformat": 4,
 "nbformat_minor": 5
}

{
 "cells": [
  {
   "cell_type": "code",
   "execution_count": 16,
   "id": "f9edab45-b25e-4c02-819c-5d9c5f1da6ab",
   "metadata": {},
   "outputs": [
    {
     "name": "stdin",
     "output_type": "stream",
     "text": [
      "Enter the starting number:  5\n",
      "Enter the ending number:  10\n"
     ]
    },
    {
     "name": "stdout",
     "output_type": "stream",
     "text": [
      "The sum of numbers from 5 to 10 is: 45\n"
     ]
    }
   ],
   "source": [
    "n = int(input(\"Enter the starting number: \"))\n",
    "m = int(input(\"Enter the ending number: \"))\n",
    "\n",
    "c = 0  # This will store the sum\n",
    "a = n  # Start from 'n'\n",
    "\n",
    "while a <= m:\n",
    "    c = a + c  \n",
    "    a += 1    \n",
    "\n",
    "print(\"The sum of numbers from\", n, \"to\", m, \"is:\", c)\n"
   ]
  },
  {
   "cell_type": "code",
   "execution_count": null,
   "id": "791ea1ee-cc4f-4d84-8a1a-8cca28fe5f09",
   "metadata": {},
   "outputs": [],
   "source": []
  }
 ],
 "metadata": {
  "kernelspec": {
   "display_name": "Python 3 (ipykernel)",
   "language": "python",
   "name": "python3"
  },
  "language_info": {
   "codemirror_mode": {
    "name": "ipython",
    "version": 3
   },
   "file_extension": ".py",
   "mimetype": "text/x-python",
   "name": "python",
   "nbconvert_exporter": "python",
   "pygments_lexer": "ipython3",
   "version": "3.12.2"
  }
 },
 "nbformat": 4,
 "nbformat_minor": 5
}

{
 "cells": [
  {
   "cell_type": "code",
   "execution_count": 7,
   "id": "d96fe935-54c6-485d-8ade-a86a3f2a3ec1",
   "metadata": {},
   "outputs": [
    {
     "name": "stdin",
     "output_type": "stream",
     "text": [
      "Enter a list of numbers separated by commas:  3,5,9,1,6,8\n"
     ]
    },
    {
     "name": "stdout",
     "output_type": "stream",
     "text": [
      "Largest number: 9, Smallest number: 1\n"
     ]
    }
   ],
   "source": [
    "x = input(\"Enter a list of numbers separated by commas: \")\n",
    "\n",
    "\n",
    "y = [int(num) for num in x.split(\",\")]\n",
    "\n",
    "\n",
    "largest_num = max(y)\n",
    "smallest_num = min(y)\n",
    "\n",
    "\n",
    "print(f\"Largest number: {largest_num}, Smallest number: {smallest_num}\")\n"
   ]
  },
  {
   "cell_type": "code",
   "execution_count": 5,
   "id": "aa533a38-aa03-44b2-99ca-dd1cbaee3391",
   "metadata": {},
   "outputs": [
    {
     "ename": "IndentationError",
     "evalue": "expected an indented block after 'if' statement on line 9 (2382661398.py, line 11)",
     "output_type": "error",
     "traceback": [
      "\u001b[1;36m  Cell \u001b[1;32mIn[5], line 11\u001b[1;36m\u001b[0m\n\u001b[1;33m    print(f\"Largest number: {largest_num}, Smallest number: {smallest_num}\")\u001b[0m\n\u001b[1;37m                                                                            ^\u001b[0m\n\u001b[1;31mIndentationError\u001b[0m\u001b[1;31m:\u001b[0m expected an indented block after 'if' statement on line 9\n"
     ]
    }
   ],
   "source": [
    "x = input(\"Enter a number of list\")\n",
    "\n",
    "y = [int(num) for num in x.split(\",\")]\n",
    "\n",
    "largest_num = 0 \n",
    "smallest_num = 0\n",
    "\n",
    "for i in y:\n",
    "    if i > y:\n",
    "        \n",
    "\n",
    "print(f\"Largest number: {largest_num}, Smallest number: {smallest_num}\")"
   ]
  },
  {
   "cell_type": "code",
   "execution_count": null,
   "id": "d3475102-edc7-4afc-980f-18a2a3ac3ff7",
   "metadata": {},
   "outputs": [],
   "source": []
  }
 ],
 "metadata": {
  "kernelspec": {
   "display_name": "Python 3 (ipykernel)",
   "language": "python",
   "name": "python3"
  },
  "language_info": {
   "codemirror_mode": {
    "name": "ipython",
    "version": 3
   },
   "file_extension": ".py",
   "mimetype": "text/x-python",
   "name": "python",
   "nbconvert_exporter": "python",
   "pygments_lexer": "ipython3",
   "version": "3.12.2"
  }
 },
 "nbformat": 4,
 "nbformat_minor": 5
}

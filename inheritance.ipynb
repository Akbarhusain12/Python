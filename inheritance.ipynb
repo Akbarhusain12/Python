{
 "cells": [
  {
   "cell_type": "code",
   "execution_count": 2,
   "id": "84140ed0-1327-4953-a54c-76f6c555732b",
   "metadata": {},
   "outputs": [
    {
     "name": "stdout",
     "output_type": "stream",
     "text": [
      "Engine is powerful\n",
      "100Km\n"
     ]
    }
   ],
   "source": [
    "class Car:\n",
    "    def speed(self):\n",
    "        print(\"100Km\")\n",
    "class Audi(Car):\n",
    "    def engine(self):\n",
    "        print(\"Engine is powerful\")\n",
    "\n",
    "c = Audi()\n",
    "c.engine()\n",
    "c.speed()"
   ]
  },
  {
   "cell_type": "code",
   "execution_count": 7,
   "id": "1cb6460b-938a-4610-8f1a-9b61980c0c64",
   "metadata": {},
   "outputs": [
    {
     "name": "stdout",
     "output_type": "stream",
     "text": [
      "Some generic sound\n",
      "bark\n",
      "Meow\n"
     ]
    }
   ],
   "source": [
    "#Overriding\n",
    "\n",
    "class Animal:\n",
    "    def sound(self):\n",
    "        print(\"Some generic sound\")\n",
    "\n",
    "class Dog():\n",
    "    def sound(self):\n",
    "        print(\"bark\")\n",
    "\n",
    "class Cat():\n",
    "    def sound(self):\n",
    "        print(\"Meow\")\n",
    "\n",
    "dog = Dog()\n",
    "cat = Cat()\n",
    "anl = Animal()\n",
    "anl.sound()\n",
    "dog.sound()\n",
    "cat.sound()"
   ]
  },
  {
   "cell_type": "code",
   "execution_count": null,
   "id": "19aef911-cc83-47b5-926a-8c4724725181",
   "metadata": {},
   "outputs": [],
   "source": []
  }
 ],
 "metadata": {
  "kernelspec": {
   "display_name": "Python 3 (ipykernel)",
   "language": "python",
   "name": "python3"
  },
  "language_info": {
   "codemirror_mode": {
    "name": "ipython",
    "version": 3
   },
   "file_extension": ".py",
   "mimetype": "text/x-python",
   "name": "python",
   "nbconvert_exporter": "python",
   "pygments_lexer": "ipython3",
   "version": "3.12.2"
  }
 },
 "nbformat": 4,
 "nbformat_minor": 5
}

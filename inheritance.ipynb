{
 "cells": [
  {
   "cell_type": "code",
   "execution_count": null,
   "id": "84140ed0-1327-4953-a54c-76f6c555732b",
   "metadata": {},
   "outputs": [],
   "source": []
  }
 ],
 "metadata": {
  "kernelspec": {
   "display_name": "",
   "name": ""
  },
  "language_info": {
   "name": ""
  }
 },
 "nbformat": 4,
 "nbformat_minor": 5
}

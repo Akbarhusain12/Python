{
 "cells": [
  {
   "cell_type": "code",
   "execution_count": 1,
   "id": "37c30e9c-d5c9-432b-93a6-5cb2c5ff70f4",
   "metadata": {},
   "outputs": [],
   "source": [
    "# Class and Object "
   ]
  },
  {
   "cell_type": "code",
   "execution_count": 8,
   "id": "e3c6adca-d951-4efd-b0ae-f5a9e7ecb708",
   "metadata": {},
   "outputs": [
    {
     "name": "stdout",
     "output_type": "stream",
     "text": [
      "Hii, WELCOME\n"
     ]
    }
   ],
   "source": [
    "class Python:\n",
    "    def fun(self):\n",
    "        print(\"Hii, WELCOME\")\n",
    "pyt = Python()\n",
    "pyt.fun()"
   ]
  },
  {
   "cell_type": "code",
   "execution_count": 14,
   "id": "28f3bbe1-5762-44e4-88e1-857079c88dfb",
   "metadata": {},
   "outputs": [
    {
     "name": "stdout",
     "output_type": "stream",
     "text": [
      "Name:  Lexus Id:  200102\n"
     ]
    }
   ],
   "source": [
    "class Car:\n",
    "    car = 0\n",
    "    def __init__(self,name,id1):\n",
    "        self.name = name\n",
    "        self.id1 = id1\n",
    "        Car.car+=1\n",
    "        \n",
    "    def printCard(self):\n",
    "        print(\"Name: \", self.name, \"Id: \", self.id1)\n",
    "\n",
    "c = Car(\"Lexus\", 200102)\n",
    "c.printCard()"
   ]
  },
  {
   "cell_type": "code",
   "execution_count": null,
   "id": "2f119ee3-6960-4603-af8b-13dab3ff8925",
   "metadata": {},
   "outputs": [],
   "source": []
  }
 ],
 "metadata": {
  "kernelspec": {
   "display_name": "Python 3 (ipykernel)",
   "language": "python",
   "name": "python3"
  },
  "language_info": {
   "codemirror_mode": {
    "name": "ipython",
    "version": 3
   },
   "file_extension": ".py",
   "mimetype": "text/x-python",
   "name": "python",
   "nbconvert_exporter": "python",
   "pygments_lexer": "ipython3",
   "version": "3.12.2"
  }
 },
 "nbformat": 4,
 "nbformat_minor": 5
}

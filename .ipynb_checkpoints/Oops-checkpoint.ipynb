{
 "cells": [
  {
   "cell_type": "code",
   "execution_count": 1,
   "id": "37c30e9c-d5c9-432b-93a6-5cb2c5ff70f4",
   "metadata": {},
   "outputs": [],
   "source": [
    "# Class and Object "
   ]
  },
  {
   "cell_type": "code",
   "execution_count": 8,
   "id": "e3c6adca-d951-4efd-b0ae-f5a9e7ecb708",
   "metadata": {},
   "outputs": [
    {
     "name": "stdout",
     "output_type": "stream",
     "text": [
      "Hii, WELCOME\n"
     ]
    }
   ],
   "source": [
    "class Python:\n",
    "    def fun(self):\n",
    "        print(\"Hii, WELCOME\")\n",
    "pyt = Python()\n",
    "pyt.fun()"
   ]
  },
  {
   "cell_type": "code",
   "execution_count": 14,
   "id": "28f3bbe1-5762-44e4-88e1-857079c88dfb",
   "metadata": {},
   "outputs": [
    {
     "name": "stdout",
     "output_type": "stream",
     "text": [
      "Name:  Lexus Id:  200102\n"
     ]
    }
   ],
   "source": [
    "class Car:\n",
    "    car = 0\n",
    "    def __init__(self,name,id1):\n",
    "        self.name = name\n",
    "        self.id1 = id1\n",
    "        Car.car+=1\n",
    "        \n",
    "    def printCard(self):\n",
    "        print(\"Name: \", self.name, \"Id: \", self.id1)\n",
    "\n",
    "c = Car(\"Lexus\", 200102)\n",
    "c.printCard()"
   ]
  },
  {
   "cell_type": "code",
   "execution_count": 32,
   "id": "2f119ee3-6960-4603-af8b-13dab3ff8925",
   "metadata": {},
   "outputs": [
    {
     "name": "stdout",
     "output_type": "stream",
     "text": [
      "Name: , Akbar Age:  20 Salary:  25000\n",
      "1\n"
     ]
    }
   ],
   "source": [
    "class Employee:\n",
    "    emp = 0\n",
    "    def set_data(self,name,age,salary):\n",
    "        self.name = name\n",
    "        self.age = age\n",
    "        self.salary = salary\n",
    "        self.emp += 1\n",
    "        \n",
    "    def details(self):\n",
    "        print(\"Name: ,\", self.name, \"Age: \", self.age, \"Salary: \", self.salary)\n",
    "        print(self.emp)\n",
    "\n",
    "c = Employee()\n",
    "c.set_data(\"Akbar\", 20, 25000)\n",
    "c.details()\n"
   ]
  },
  {
   "cell_type": "code",
   "execution_count": 41,
   "id": "1146291b-4920-47bf-8053-fdc713a7b96d",
   "metadata": {},
   "outputs": [
    {
     "name": "stdout",
     "output_type": "stream",
     "text": [
      "Parrot is having feather color Green\n",
      "Parrot beak size - Short , beak color - Blue\n"
     ]
    }
   ],
   "source": [
    "class Bird:\n",
    "    def __init__(self, name, feather_color, beak_size, beak_color):\n",
    "        self.name = name\n",
    "        self.feather_color = feather_color\n",
    "        self.beak_size = beak_size\n",
    "        self.beak_color = beak_color\n",
    "        \n",
    "    def Fly(self):\n",
    "        print(f'{self.name} is having feather color {self.feather_color}')\n",
    "    def speed(self):\n",
    "        print(f'{self.name} beak size - {self.beak_size} , beak color - {self.beak_color}')\n",
    "\n",
    "br = Bird(\"Parrot\", \"Green\",\"Short\",\"Blue\")\n",
    "br.Fly()\n",
    "br.speed()\n",
    "\n",
    "        "
   ]
  },
  {
   "cell_type": "code",
   "execution_count": null,
   "id": "16f2561c-2607-4b69-a813-8b36ebc174a8",
   "metadata": {},
   "outputs": [],
   "source": []
  }
 ],
 "metadata": {
  "kernelspec": {
   "display_name": "Python 3 (ipykernel)",
   "language": "python",
   "name": "python3"
  },
  "language_info": {
   "codemirror_mode": {
    "name": "ipython",
    "version": 3
   },
   "file_extension": ".py",
   "mimetype": "text/x-python",
   "name": "python",
   "nbconvert_exporter": "python",
   "pygments_lexer": "ipython3",
   "version": "3.12.2"
  }
 },
 "nbformat": 4,
 "nbformat_minor": 5
}

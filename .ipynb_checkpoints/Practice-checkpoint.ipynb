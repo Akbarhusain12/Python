{
 "cells": [
  {
   "cell_type": "code",
   "execution_count": 1,
   "id": "5ccebab0-3ff6-4191-87ea-4be4dd40a3f6",
   "metadata": {},
   "outputs": [
    {
     "name": "stdin",
     "output_type": "stream",
     "text": [
      "Enter a number 8\n"
     ]
    },
    {
     "name": "stdout",
     "output_type": "stream",
     "text": [
      "8\n"
     ]
    }
   ],
   "source": [
    "x = input(\"Enter a number\")\n",
    "print(x)"
   ]
  },
  {
   "cell_type": "code",
   "execution_count": 2,
   "id": "dfb57ff4-589b-4204-a670-bdb0a6a55874",
   "metadata": {},
   "outputs": [
    {
     "name": "stdin",
     "output_type": "stream",
     "text": [
      "Enter a number 8\n"
     ]
    },
    {
     "name": "stdout",
     "output_type": "stream",
     "text": [
      "200.96\n"
     ]
    }
   ],
   "source": [
    "x = int(input(\"Enter a number\"))\n",
    "pi = 3.14\n",
    "\n",
    "arc = pi * x ** 2\n",
    "print(arc)"
   ]
  },
  {
   "cell_type": "code",
   "execution_count": 3,
   "id": "a66b1031-8e26-4394-9e41-2129a922ac1a",
   "metadata": {},
   "outputs": [
    {
     "name": "stdout",
     "output_type": "stream",
     "text": [
      "Either of the number is greater than 0\n",
      "No number is greater than 0\n"
     ]
    }
   ],
   "source": [
    "a = 10\n",
    "b = -10\n",
    "c = 0\n",
    "if a > 0 or b > 0:\n",
    "    print(\"Either of the number is greater than 0\")\n",
    "else:\n",
    "    print(\"No number is greater than 0\")\n",
    "if b > 0 or c > 0:\n",
    "    print(\"Either of the number is greater than 0\")\n",
    "else:\n",
    "    print(\"No number is greater than 0\")"
   ]
  },
  {
   "cell_type": "code",
   "execution_count": 4,
   "id": "7dae4d1c-1dab-4fde-ae7e-79929e6ad2d1",
   "metadata": {},
   "outputs": [
    {
     "name": "stdout",
     "output_type": "stream",
     "text": [
      "llew si llA\n"
     ]
    }
   ],
   "source": [
    "x = \"All is well\"\n",
    "# y = x[::-1]\n",
    "# y\n",
    "rev = \"\" \n",
    "for i in x:\n",
    "    rev = i + rev\n",
    "\n",
    "print(rev)"
   ]
  },
  {
   "cell_type": "code",
   "execution_count": 5,
   "id": "3bd74ce7-f8bc-4430-81d5-1be87afa0e53",
   "metadata": {},
   "outputs": [
    {
     "name": "stdin",
     "output_type": "stream",
     "text": [
      "Enter your Fvt color red\n",
      "Enter a decimal number 7.8\n"
     ]
    },
    {
     "name": "stdout",
     "output_type": "stream",
     "text": [
      "Your fvt Color red and your sqr of number 49\n"
     ]
    }
   ],
   "source": [
    "x = input(\"Enter your Fvt color\")\n",
    "y = float(input(\"Enter a decimal number\"))\n",
    "\n",
    "z = int(y)\n",
    "\n",
    "print(f\"Your fvt Color {x} and your sqr of number {z ** 2}\")"
   ]
  },
  {
   "cell_type": "code",
   "execution_count": 6,
   "id": "93612489-5030-4b6c-ae20-ebe15dc89d17",
   "metadata": {},
   "outputs": [
    {
     "name": "stdout",
     "output_type": "stream",
     "text": [
      "20\n",
      "10\n"
     ]
    }
   ],
   "source": [
    "x = 10\n",
    "y = 20\n",
    "\n",
    "x,y = y,x\n",
    "print(x)\n",
    "print(y)"
   ]
  },
  {
   "cell_type": "code",
   "execution_count": 7,
   "id": "f7315c08-dcf7-4881-bbe1-8f8958e0c8b5",
   "metadata": {},
   "outputs": [
    {
     "name": "stdout",
     "output_type": "stream",
     "text": [
      "20\n",
      "10\n"
     ]
    }
   ],
   "source": [
    "x = 10\n",
    "y = 20\n",
    "z = 0\n",
    "\n",
    "z = x\n",
    "x = y\n",
    "y = z\n",
    "print(x)\n",
    "print(y)"
   ]
  },
  {
   "cell_type": "code",
   "execution_count": 8,
   "id": "6e842977-c5f3-41f7-9802-883bdaebdd03",
   "metadata": {},
   "outputs": [
    {
     "name": "stdin",
     "output_type": "stream",
     "text": [
      "Enter a number 8\n",
      "Enter a number 9\n"
     ]
    },
    {
     "name": "stdout",
     "output_type": "stream",
     "text": [
      "9 is greatest\n"
     ]
    }
   ],
   "source": [
    "x = int(input(\"Enter a number\"))\n",
    "y = int(input(\"Enter a number\"))\n",
    "\n",
    "if x > y:\n",
    "    print(f\"{x} is greatest\")\n",
    "else:\n",
    "    print(f\"{y} is greatest\")"
   ]
  },
  {
   "cell_type": "code",
   "execution_count": 9,
   "id": "d564d4c5-207e-4282-afb6-9f285e23deb6",
   "metadata": {},
   "outputs": [
    {
     "name": "stdin",
     "output_type": "stream",
     "text": [
      "Enter a number 8\n",
      "Enter a number 9\n",
      "Enter a number 0\n"
     ]
    },
    {
     "name": "stdout",
     "output_type": "stream",
     "text": [
      "9 is greatest\n"
     ]
    }
   ],
   "source": [
    "x = int(input(\"Enter a number\"))\n",
    "y = int(input(\"Enter a number\"))\n",
    "z = int(input(\"Enter a number\"))\n",
    "\n",
    "if x > y and x > z:\n",
    "    print(f\"{x} is greatest\")\n",
    "elif y > x and y > z:\n",
    "    print(f\"{y} is greatest\")\n",
    "else:\n",
    "    print(f\"{z} is greatest\")"
   ]
  },
  {
   "cell_type": "code",
   "execution_count": 13,
   "id": "dcf6ac60-8e0f-40ac-a4bd-ffdd58440ad7",
   "metadata": {},
   "outputs": [
    {
     "name": "stdin",
     "output_type": "stream",
     "text": [
      "Enter a number 10\n",
      "Enter a number 4\n",
      "Enter a number 15\n"
     ]
    },
    {
     "name": "stdout",
     "output_type": "stream",
     "text": [
      "10\n"
     ]
    }
   ],
   "source": [
    "x = int(input(\"Enter a number\"))\n",
    "y = int(input(\"Enter a number\"))\n",
    "z = int(input(\"Enter a number\"))\n",
    "\n",
    "second_gr = 0\n",
    "if (x > y or x > z) and (x < y or x < z):\n",
    "    second_gr = x\n",
    "elif (y > z or y > x) and (y < z or y < x):\n",
    "    second_gr = y\n",
    "else:\n",
    "    second_gr = z\n",
    "\n",
    "print(second_gr)"
   ]
  },
  {
   "cell_type": "code",
   "execution_count": 20,
   "id": "1e84ca90-9f1b-4ee2-b3ff-2dc4e940deff",
   "metadata": {},
   "outputs": [
    {
     "name": "stdin",
     "output_type": "stream",
     "text": [
      "Enter a number 456\n"
     ]
    },
    {
     "name": "stdout",
     "output_type": "stream",
     "text": [
      "654 <class 'int'>\n"
     ]
    }
   ],
   "source": [
    "x = int(input(\"Enter a number\"))\n",
    "y = str(x)\n",
    "rev = \"\"\n",
    "\n",
    "for i in y:\n",
    "    rev = i + rev\n",
    "\n",
    "rev = int(rev)\n",
    "print(rev, type(rev))"
   ]
  },
  {
   "cell_type": "code",
   "execution_count": 26,
   "id": "f16b9867-4e5e-47f6-a74a-2a181252540e",
   "metadata": {},
   "outputs": [
    {
     "name": "stdin",
     "output_type": "stream",
     "text": [
      "Enter a number:  1\n",
      "Enter a number:  2\n",
      "Enter a number:  3\n",
      "Enter a number:  4\n"
     ]
    },
    {
     "name": "stdout",
     "output_type": "stream",
     "text": [
      "1 is the smallest\n"
     ]
    }
   ],
   "source": [
    "a = int(input(\"Enter a number: \"))\n",
    "b = int(input(\"Enter a number: \"))\n",
    "c = int(input(\"Enter a number: \"))\n",
    "d = int(input(\"Enter a number: \"))\n",
    "\n",
    "if a < b and a < c and a < d:\n",
    "    print(f\"{a} is the smallest\")\n",
    "elif b < a and b < c and b < d:\n",
    "    print(f\"{b} is the smallest\")\n",
    "elif c < a and c < b and c < d:\n",
    "    print(f\"{c} is the smallest\")\n",
    "else:\n",
    "    print(f\"{d} is the smallest\")"
   ]
  },
  {
   "cell_type": "code",
   "execution_count": 28,
   "id": "7ad4815e-6e00-4a4e-931f-695c82ffa57e",
   "metadata": {},
   "outputs": [
    {
     "name": "stdin",
     "output_type": "stream",
     "text": [
      "Enter a number -20\n"
     ]
    },
    {
     "name": "stdout",
     "output_type": "stream",
     "text": [
      "number is negative\n"
     ]
    }
   ],
   "source": [
    "x = int(input(\"Enter a number\"))\n",
    "\n",
    "if x > 0:\n",
    "    print(\"number is positive\")\n",
    "else:\n",
    "    print(\"number is negative\")\n"
   ]
  },
  {
   "cell_type": "code",
   "execution_count": 30,
   "id": "dbd49178-93c0-4a93-8500-43e173bb40b8",
   "metadata": {},
   "outputs": [
    {
     "name": "stdin",
     "output_type": "stream",
     "text": [
      "enter a charac b\n"
     ]
    },
    {
     "name": "stdout",
     "output_type": "stream",
     "text": [
      "const\n"
     ]
    }
   ],
   "source": [
    "x = input(\"enter a charac\").lower()\n",
    "\n",
    "vov = ['a','e','i','o','u']\n",
    "\n",
    "if x in vov:\n",
    "    print(\"vowel\")\n",
    "else:\n",
    "    print(\"const\")"
   ]
  },
  {
   "cell_type": "code",
   "execution_count": 34,
   "id": "2e6dfc5c-b0e5-44b7-8c96-f45d9ccc2db4",
   "metadata": {},
   "outputs": [
    {
     "name": "stdin",
     "output_type": "stream",
     "text": [
      "Enter a number 4\n",
      "Enter a number 10\n"
     ]
    },
    {
     "name": "stdout",
     "output_type": "stream",
     "text": [
      "4\n",
      "5\n",
      "6\n",
      "7\n",
      "8\n",
      "9\n",
      "10\n"
     ]
    }
   ],
   "source": [
    "a = int(input(\"Enter a number\"))\n",
    "b = int(input(\"Enter a number\"))\n",
    "\n",
    "while a >= b:\n",
    "    pass\n",
    "else:\n",
    "    for i in range(a, b+1):\n",
    "        print(i)"
   ]
  },
  {
   "cell_type": "code",
   "execution_count": 40,
   "id": "9ccd77cf-7f98-4f07-af77-168ac841a2e9",
   "metadata": {},
   "outputs": [
    {
     "name": "stdin",
     "output_type": "stream",
     "text": [
      "Enter a number:  3546457879\n"
     ]
    },
    {
     "name": "stdout",
     "output_type": "stream",
     "text": [
      "10\n"
     ]
    }
   ],
   "source": [
    "num = int(input(\"Enter a number: \"))\n",
    "\n",
    "num_digits = len(str(abs(num)))\n",
    "\n",
    "print(num_digits)"
   ]
  },
  {
   "cell_type": "code",
   "execution_count": 46,
   "id": "50baa681-d139-4a7d-967d-290a01ae4bef",
   "metadata": {},
   "outputs": [
    {
     "name": "stdin",
     "output_type": "stream",
     "text": [
      "Enter a number:  45\n"
     ]
    },
    {
     "name": "stdout",
     "output_type": "stream",
     "text": [
      "The number is positive and odd\n"
     ]
    }
   ],
   "source": [
    "x = int(input(\"Enter a number: \"))\n",
    "\n",
    "if x == 0:\n",
    "    print(\"The number is zero\")\n",
    "elif x > 0:\n",
    "    if x % 2 == 0:\n",
    "        print(\"The number is positive and even\")\n",
    "    else:\n",
    "        print(\"The number is positive and odd\")\n",
    "else:\n",
    "    print(\"The number is negative\")"
   ]
  },
  {
   "cell_type": "code",
   "execution_count": null,
   "id": "08ade268-0562-4d81-8801-63981d64578d",
   "metadata": {},
   "outputs": [],
   "source": []
  }
 ],
 "metadata": {
  "kernelspec": {
   "display_name": "Python 3 (ipykernel)",
   "language": "python",
   "name": "python3"
  },
  "language_info": {
   "codemirror_mode": {
    "name": "ipython",
    "version": 3
   },
   "file_extension": ".py",
   "mimetype": "text/x-python",
   "name": "python",
   "nbconvert_exporter": "python",
   "pygments_lexer": "ipython3",
   "version": "3.12.2"
  }
 },
 "nbformat": 4,
 "nbformat_minor": 5
}

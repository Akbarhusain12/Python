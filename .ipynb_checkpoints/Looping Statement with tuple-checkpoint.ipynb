{
 "cells": [
  {
   "cell_type": "code",
   "execution_count": 1,
   "id": "fd17171f-8ab1-40c4-b5c6-669394dfda70",
   "metadata": {},
   "outputs": [
    {
     "name": "stdout",
     "output_type": "stream",
     "text": [
      "1\n",
      "2\n",
      "3\n",
      "4\n",
      "5\n"
     ]
    }
   ],
   "source": [
    "for i in range(1,6):\n",
    "    print(i)\n"
   ]
  },
  {
   "cell_type": "code",
   "execution_count": 2,
   "id": "73b7c455-0d39-4696-b98c-e310e3226b4c",
   "metadata": {},
   "outputs": [
    {
     "name": "stdout",
     "output_type": "stream",
     "text": [
      "1\n",
      "3\n",
      "5\n",
      "7\n",
      "9\n",
      "11\n",
      "13\n",
      "15\n",
      "17\n",
      "19\n",
      "21\n",
      "23\n",
      "25\n",
      "27\n",
      "29\n",
      "31\n",
      "33\n",
      "35\n",
      "37\n",
      "39\n",
      "41\n",
      "43\n",
      "45\n",
      "47\n",
      "49\n"
     ]
    }
   ],
   "source": [
    "for i in range(50):\n",
    "    if(i%2 != 0):\n",
    "        print(i)"
   ]
  },
  {
   "cell_type": "code",
   "execution_count": 5,
   "id": "2e16a4f1-287b-4781-8be8-df9aeeee6536",
   "metadata": {},
   "outputs": [
    {
     "name": "stdout",
     "output_type": "stream",
     "text": [
      "('hello',)\n",
      "('hello',)\n",
      "('hello',)\n"
     ]
    }
   ],
   "source": [
    "tuple1 = ('hello')\n",
    "n = 3\n",
    "\n",
    "for i in range(int(n)):\n",
    "    Tuple = (tuple1,)\n",
    "    print(Tuple)"
   ]
  },
  {
   "cell_type": "code",
   "execution_count": 6,
   "id": "57d211d2-da1a-4e96-a724-09a42718c43e",
   "metadata": {},
   "outputs": [
    {
     "name": "stdout",
     "output_type": "stream",
     "text": [
      "5\n"
     ]
    }
   ],
   "source": [
    "tuple2 = ('developer', 5 , 6.8, 'r' , 8)\n",
    "print(len(tuple2))"
   ]
  },
  {
   "cell_type": "code",
   "execution_count": 9,
   "id": "06d52cda-2d06-430c-b7b7-3839735dafef",
   "metadata": {},
   "outputs": [
    {
     "name": "stdout",
     "output_type": "stream",
     "text": [
      "89\n",
      "4\n",
      "115\n",
      "[89, 9, 8, 5, 4]\n"
     ]
    }
   ],
   "source": [
    "tuple3 = (9,5,89,4,8)\n",
    "print(max(tuple3))\n",
    "print(min(tuple3))\n",
    "print(sum(tuple3))\n",
    "print(sorted(tuple3, reverse=True))"
   ]
  },
  {
   "cell_type": "code",
   "execution_count": 11,
   "id": "95ae422b-35e2-4f66-a119-8cb7efc2fabf",
   "metadata": {},
   "outputs": [
    {
     "name": "stdout",
     "output_type": "stream",
     "text": [
      "True\n"
     ]
    }
   ],
   "source": [
    "tuple4 = (4,1)\n",
    "print(all(tuple4))"
   ]
  },
  {
   "cell_type": "code",
   "execution_count": 18,
   "id": "12ce023e-9828-4386-88da-25a2bd6e6b31",
   "metadata": {},
   "outputs": [
    {
     "name": "stdout",
     "output_type": "stream",
     "text": [
      "((26, 45, 'hello', 7.5), (26, 45, 'hello', 7.5))\n",
      "(26, 45, 'hello', 7.5, 26, 45, 'hello', 7.5)\n"
     ]
    }
   ],
   "source": [
    "value1 = (26,45,'hello', 7.5)\n",
    "value2 = (26,45,'hello', 7.5)\n",
    "\n",
    "value3 = value1 , value2\n",
    "value4 = value1 + value2\n",
    "print(value3)\n",
    "print(value4)"
   ]
  },
  {
   "cell_type": "code",
   "execution_count": 30,
   "id": "8677bac4-2d64-4f05-b69a-8e72c19d77d5",
   "metadata": {},
   "outputs": [
    {
     "name": "stdin",
     "output_type": "stream",
     "text": [
      "Enter the number of elements:  3\n",
      "Enter element 1:  23\n",
      "Enter element 2:  23\n",
      "Enter element 3:  23\n"
     ]
    },
    {
     "ename": "TypeError",
     "evalue": "'str' object is not callable",
     "output_type": "error",
     "traceback": [
      "\u001b[1;31m---------------------------------------------------------------------------\u001b[0m",
      "\u001b[1;31mTypeError\u001b[0m                                 Traceback (most recent call last)",
      "Cell \u001b[1;32mIn[30], line 7\u001b[0m\n\u001b[0;32m      4\u001b[0m \u001b[38;5;28;01mfor\u001b[39;00m i \u001b[38;5;129;01min\u001b[39;00m \u001b[38;5;28mrange\u001b[39m(n):\n\u001b[0;32m      5\u001b[0m     list2\u001b[38;5;241m.\u001b[39mappend(\u001b[38;5;28mint\u001b[39m(\u001b[38;5;28minput\u001b[39m(\u001b[38;5;124mf\u001b[39m\u001b[38;5;124m\"\u001b[39m\u001b[38;5;124mEnter element \u001b[39m\u001b[38;5;132;01m{\u001b[39;00mi\u001b[38;5;241m+\u001b[39m\u001b[38;5;241m1\u001b[39m\u001b[38;5;132;01m}\u001b[39;00m\u001b[38;5;124m: \u001b[39m\u001b[38;5;124m\"\u001b[39m)))\n\u001b[1;32m----> 7\u001b[0m value \u001b[38;5;241m=\u001b[39m \u001b[38;5;28;43mtuple\u001b[39;49m\u001b[43m(\u001b[49m\u001b[43mlist2\u001b[49m\u001b[43m)\u001b[49m\n\u001b[0;32m      8\u001b[0m \u001b[38;5;28mprint\u001b[39m(\u001b[38;5;124m\"\u001b[39m\u001b[38;5;124mTuple:\u001b[39m\u001b[38;5;124m\"\u001b[39m, value)\n",
      "\u001b[1;31mTypeError\u001b[0m: 'str' object is not callable"
     ]
    }
   ],
   "source": [
    "n = int(input(\"Enter the number of elements: \"))\n",
    "list2 = []\n",
    "\n",
    "for i in range(n):\n",
    "    list2.append(int(input(f\"Enter element {i+1}: \")))\n",
    "\n",
    "value = tuple(list2)\n",
    "print(\"Tuple:\", value)"
   ]
  },
  {
   "cell_type": "code",
   "execution_count": null,
   "id": "1b9f59d1-1ddb-4975-81df-ff3e93969cfa",
   "metadata": {},
   "outputs": [],
   "source": []
  }
 ],
 "metadata": {
  "kernelspec": {
   "display_name": "Python 3 (ipykernel)",
   "language": "python",
   "name": "python3"
  },
  "language_info": {
   "codemirror_mode": {
    "name": "ipython",
    "version": 3
   },
   "file_extension": ".py",
   "mimetype": "text/x-python",
   "name": "python",
   "nbconvert_exporter": "python",
   "pygments_lexer": "ipython3",
   "version": "3.12.2"
  }
 },
 "nbformat": 4,
 "nbformat_minor": 5
}

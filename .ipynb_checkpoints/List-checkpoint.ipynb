{
 "cells": [
  {
   "cell_type": "code",
   "execution_count": 1,
   "id": "eaa7f2ce-c97c-49a1-8e6c-f0309924ea2d",
   "metadata": {},
   "outputs": [
    {
     "name": "stdout",
     "output_type": "stream",
     "text": [
      "Integer List: [1, 2, 3, 4, 5]\n",
      "Float List: [1.1, 2.2, 3.3, 4.4, 5.5]\n",
      "String List: ['apple', 'banana', 'cherry']\n",
      "Mixed List: [1, 2.5, 'hello']\n"
     ]
    }
   ],
   "source": [
    "# List of integers\n",
    "int_list = [1, 2, 3, 4, 5]\n",
    "\n",
    "# List of floats\n",
    "float_list = [1.1, 2.2, 3.3, 4.4, 5.5]\n",
    "\n",
    "# List of strings\n",
    "string_list = [\"apple\", \"banana\", \"cherry\"]\n",
    "\n",
    "# Mixed list of int, float, and string\n",
    "mixed_list = [1, 2.5, \"hello\"]\n",
    "\n",
    "# Printing each list\n",
    "print(\"Integer List:\", int_list)\n",
    "print(\"Float List:\", float_list)\n",
    "print(\"String List:\", string_list)\n",
    "print(\"Mixed List:\", mixed_list)"
   ]
  },
  {
   "cell_type": "markdown",
   "id": "965d5c15-a418-4308-b166-aeb4fd8277d9",
   "metadata": {},
   "source": [
    "## list within list"
   ]
  },
  {
   "cell_type": "code",
   "execution_count": 6,
   "id": "6f0dea68-4ad4-4930-aa8f-c997053fed7e",
   "metadata": {},
   "outputs": [
    {
     "data": {
      "text/plain": [
       "[[1, 2, 34], [[4, 5, 6, 7], [10.5, 11.5]]]"
      ]
     },
     "execution_count": 6,
     "metadata": {},
     "output_type": "execute_result"
    }
   ],
   "source": [
    "x = [[1,2,34],\n",
    "       [[4,5,6,7]\n",
    "        ,[10.5,11.5]\n",
    "       ]\n",
    "    ]\n",
    "x"
   ]
  },
  {
   "cell_type": "code",
   "execution_count": 11,
   "id": "4e86432c-aae2-4595-97b2-2f5bd0abeaae",
   "metadata": {},
   "outputs": [
    {
     "data": {
      "text/plain": [
       "[1, 2.5]"
      ]
     },
     "execution_count": 11,
     "metadata": {},
     "output_type": "execute_result"
    }
   ],
   "source": [
    "a = [1, 2.5, \"hello\"]\n",
    "a[0:2]"
   ]
  },
  {
   "cell_type": "markdown",
   "id": "3bc16927-f2f2-48ba-b4b3-01b8bd7294f8",
   "metadata": {},
   "source": [
    "## slicing"
   ]
  },
  {
   "cell_type": "code",
   "execution_count": 27,
   "id": "6f63e193-9639-42dc-be3e-e22524a992a4",
   "metadata": {},
   "outputs": [
    {
     "data": {
      "text/plain": [
       "[2.5, 'hello']"
      ]
     },
     "execution_count": 27,
     "metadata": {},
     "output_type": "execute_result"
    }
   ],
   "source": [
    "a = [1, 2.5,'a', \"hello\",\"anfjk\",'dwhjb']\n",
    "a[1:5:2]"
   ]
  },
  {
   "cell_type": "code",
   "execution_count": null,
   "id": "a89d600d-ba4b-451e-a676-c32f25b12a37",
   "metadata": {},
   "outputs": [],
   "source": []
  }
 ],
 "metadata": {
  "kernelspec": {
   "display_name": "Python 3 (ipykernel)",
   "language": "python",
   "name": "python3"
  },
  "language_info": {
   "codemirror_mode": {
    "name": "ipython",
    "version": 3
   },
   "file_extension": ".py",
   "mimetype": "text/x-python",
   "name": "python",
   "nbconvert_exporter": "python",
   "pygments_lexer": "ipython3",
   "version": "3.12.2"
  }
 },
 "nbformat": 4,
 "nbformat_minor": 5
}

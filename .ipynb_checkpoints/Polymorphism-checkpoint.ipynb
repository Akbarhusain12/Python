{
 "cells": [
  {
   "cell_type": "code",
   "execution_count": 6,
   "id": "79380b68-2c21-453c-9131-c7ed286c7558",
   "metadata": {},
   "outputs": [
    {
     "name": "stdout",
     "output_type": "stream",
     "text": [
      "New Delhi is the capital of India.\n",
      "Hindi is the most widely spoken language of India.\n",
      "India is a developing country.\n",
      "\n",
      "\n",
      "Washington, D.C. is the capital of USA.\n",
      "English is the primary language of USA.\n",
      "USA is a developed country.\n"
     ]
    }
   ],
   "source": [
    "class India():\n",
    "    def capital(self):\n",
    "        print(\"New Delhi is the capital of India.\")\n",
    "\n",
    "    def language(self):\n",
    "        print(\"Hindi is the most widely spoken language of India.\")\n",
    "\n",
    "    def type(self):\n",
    "        print(\"India is a developing country.\")\n",
    "\n",
    "class USA():\n",
    "    def capital(self):\n",
    "        print(\"Washington, D.C. is the capital of USA.\")\n",
    "\n",
    "    def language(self):\n",
    "        print(\"English is the primary language of USA.\")\n",
    "\n",
    "    def type(self):\n",
    "        print(\"USA is a developed country.\")\n",
    "\n",
    "obj_ind = India()\n",
    "obj_usa = USA()\n",
    "obj_ind.capital()\n",
    "obj_ind.language()\n",
    "obj_ind.type()\n",
    "print(\"\\n\")\n",
    "obj_usa.capital()\n",
    "obj_usa.language()\n",
    "obj_usa.type()"
   ]
  },
  {
   "cell_type": "code",
   "execution_count": 11,
   "id": "3759382d-c1a6-46f9-9527-5249d9fc775e",
   "metadata": {},
   "outputs": [
    {
     "name": "stdout",
     "output_type": "stream",
     "text": [
      "Area of circle :  114\n",
      "Area of rectangle :  672\n"
     ]
    }
   ],
   "source": [
    "import math\n",
    "class Area:\n",
    "    def circle_area(self, arg1 = None, arg2 = None):\n",
    "        if arg1 != None and arg2 != None:\n",
    "            return arg1 * arg2\n",
    "        else:\n",
    "            return math.ceil(math.pi * arg1 ** 2)\n",
    "\n",
    "radius = 6\n",
    "length = 56\n",
    "breath = 12 \n",
    "\n",
    "obj = Area()\n",
    "print(\"Area of circle : \", obj.circle_area(radius))\n",
    "print(\"Area of rectangle : \", obj.circle_area(length,breath))"
   ]
  },
  {
   "cell_type": "code",
   "execution_count": null,
   "id": "cbe37d70-79ad-4add-819c-54aa19e74fc9",
   "metadata": {},
   "outputs": [],
   "source": []
  }
 ],
 "metadata": {
  "kernelspec": {
   "display_name": "Python 3 (ipykernel)",
   "language": "python",
   "name": "python3"
  },
  "language_info": {
   "codemirror_mode": {
    "name": "ipython",
    "version": 3
   },
   "file_extension": ".py",
   "mimetype": "text/x-python",
   "name": "python",
   "nbconvert_exporter": "python",
   "pygments_lexer": "ipython3",
   "version": "3.12.2"
  }
 },
 "nbformat": 4,
 "nbformat_minor": 5
}

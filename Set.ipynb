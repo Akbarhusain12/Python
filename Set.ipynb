{
 "cells": [
  {
   "cell_type": "code",
   "execution_count": 7,
   "id": "6313dfe4-2005-4502-b21e-cbbd9a7a152c",
   "metadata": {},
   "outputs": [
    {
     "name": "stdout",
     "output_type": "stream",
     "text": [
      "32\n",
      "1\n",
      "2\n",
      "34\n",
      "range\n"
     ]
    }
   ],
   "source": [
    "value = {1,2,34,'range',32}\n",
    "for i in value:\n",
    "    print(i)\n",
    "    # if i == 2:\n",
    "    #     print(i)"
   ]
  },
  {
   "cell_type": "code",
   "execution_count": 13,
   "id": "da24be81-7b9e-433c-9401-a91bc1e2019c",
   "metadata": {},
   "outputs": [
    {
     "name": "stdout",
     "output_type": "stream",
     "text": [
      "4\n",
      "{1, 2, 3, 'python'}\n"
     ]
    }
   ],
   "source": [
    "my_set = {1, 2, 3, 'python'}\n",
    "my_set.add('apple')\n",
    "my_set.remove('apple')\n",
    "\n",
    "print(len(my_set))\n",
    "print(my_set)"
   ]
  },
  {
   "cell_type": "code",
   "execution_count": null,
   "id": "5e470ba1-b07b-4222-8a3b-0d7b5b001ef9",
   "metadata": {},
   "outputs": [],
   "source": []
  }
 ],
 "metadata": {
  "kernelspec": {
   "display_name": "Python 3 (ipykernel)",
   "language": "python",
   "name": "python3"
  },
  "language_info": {
   "codemirror_mode": {
    "name": "ipython",
    "version": 3
   },
   "file_extension": ".py",
   "mimetype": "text/x-python",
   "name": "python",
   "nbconvert_exporter": "python",
   "pygments_lexer": "ipython3",
   "version": "3.12.2"
  }
 },
 "nbformat": 4,
 "nbformat_minor": 5
}

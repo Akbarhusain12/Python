{
 "cells": [
  {
   "cell_type": "code",
   "execution_count": 2,
   "id": "fe1b508c-b1ba-493f-80f2-e45734130aec",
   "metadata": {},
   "outputs": [
    {
     "name": "stdout",
     "output_type": "stream",
     "text": [
      "10\n"
     ]
    }
   ],
   "source": [
    "try:\n",
    "    x = 10\n",
    "    print(x)\n",
    "except:\n",
    "    print(\"An Exception occured\")"
   ]
  },
  {
   "cell_type": "code",
   "execution_count": 17,
   "id": "52334529-7565-42c7-8ce0-1e2d6d9ef469",
   "metadata": {},
   "outputs": [
    {
     "name": "stdin",
     "output_type": "stream",
     "text": [
      "Enter your age 23\n"
     ]
    },
    {
     "name": "stdout",
     "output_type": "stream",
     "text": [
      "You are 23 year's old\n"
     ]
    }
   ],
   "source": [
    "try:\n",
    "    age = int(input(\"Enter your age\"))\n",
    "    if age < 0:\n",
    "        raise ValueError\n",
    "    else:\n",
    "        print(f\"You are {age} year's old\")\n",
    "except ValueError:\n",
    "    print(\"The age is not valid\")"
   ]
  },
  {
   "cell_type": "code",
   "execution_count": 34,
   "id": "c60b6c7e-ab4b-49ad-b940-5338c95f4d68",
   "metadata": {},
   "outputs": [
    {
     "name": "stdout",
     "output_type": "stream",
     "text": [
      "Zero Division Error Occurred\n"
     ]
    }
   ],
   "source": [
    "def Usage_of_except(a):\n",
    "    if a < 4:\n",
    "        b = a / 0\n",
    "    print(\"Value of b =\", b)\n",
    "\n",
    "try:\n",
    "    Usage_of_except(0)\n",
    "except ZeroDivisionError:\n",
    "    print(\"Zero Division Error Occurred\")\n",
    "except NameError:\n",
    "    print(\"Name Error Occurred\")"
   ]
  },
  {
   "cell_type": "code",
   "execution_count": 35,
   "id": "85775ba2-2d64-43eb-87f4-ccf71acd733c",
   "metadata": {},
   "outputs": [
    {
     "name": "stdout",
     "output_type": "stream",
     "text": [
      "-5.0\n",
      "a/b result in Zero\n"
     ]
    }
   ],
   "source": [
    "def Usage_of_else(a,b):\n",
    "    try:\n",
    "        c = ((a + b) / (a -b))\n",
    "    except ZeroDivisionError:\n",
    "        print(\"a/b result in Zero\")\n",
    "    else:\n",
    "        print(c)\n",
    "\n",
    "Usage_of_else(2.0, 3.0)\n",
    "Usage_of_else(3.0, 3.0)"
   ]
  },
  {
   "cell_type": "code",
   "execution_count": 39,
   "id": "98f86db5-4d8c-4daf-92dd-e2376e07013b",
   "metadata": {},
   "outputs": [
    {
     "name": "stdin",
     "output_type": "stream",
     "text": [
      " 23\n"
     ]
    },
    {
     "name": "stdout",
     "output_type": "stream",
     "text": [
      "<class 'str'>\n",
      "23\n",
      "<class 'int'>\n"
     ]
    }
   ],
   "source": [
    "def temp_convert(var):\n",
    "    try:\n",
    "        print(type(var))\n",
    "        return int(var)\n",
    "    except ValueError as Argument:\n",
    "        print(\"Invalid Number\", Argument)\n",
    "n = temp_convert(input())\n",
    "print(n)\n",
    "print(type(n))"
   ]
  },
  {
   "cell_type": "code",
   "execution_count": null,
   "id": "15369749-e543-4cc1-af03-6bb67c1a768f",
   "metadata": {},
   "outputs": [],
   "source": []
  }
 ],
 "metadata": {
  "kernelspec": {
   "display_name": "Python 3 (ipykernel)",
   "language": "python",
   "name": "python3"
  },
  "language_info": {
   "codemirror_mode": {
    "name": "ipython",
    "version": 3
   },
   "file_extension": ".py",
   "mimetype": "text/x-python",
   "name": "python",
   "nbconvert_exporter": "python",
   "pygments_lexer": "ipython3",
   "version": "3.12.2"
  }
 },
 "nbformat": 4,
 "nbformat_minor": 5
}

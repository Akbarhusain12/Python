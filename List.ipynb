{
 "cells": [
  {
   "cell_type": "code",
   "execution_count": 1,
   "id": "eaa7f2ce-c97c-49a1-8e6c-f0309924ea2d",
   "metadata": {},
   "outputs": [
    {
     "name": "stdout",
     "output_type": "stream",
     "text": [
      "Integer List: [1, 2, 3, 4, 5]\n",
      "Float List: [1.1, 2.2, 3.3, 4.4, 5.5]\n",
      "String List: ['apple', 'banana', 'cherry']\n",
      "Mixed List: [1, 2.5, 'hello']\n"
     ]
    }
   ],
   "source": [
    "# List of integers\n",
    "int_list = [1, 2, 3, 4, 5]\n",
    "\n",
    "# List of floats\n",
    "float_list = [1.1, 2.2, 3.3, 4.4, 5.5]\n",
    "\n",
    "# List of strings\n",
    "string_list = [\"apple\", \"banana\", \"cherry\"]\n",
    "\n",
    "# Mixed list of int, float, and string\n",
    "mixed_list = [1, 2.5, \"hello\"]\n",
    "\n",
    "# Printing each list\n",
    "print(\"Integer List:\", int_list)\n",
    "print(\"Float List:\", float_list)\n",
    "print(\"String List:\", string_list)\n",
    "print(\"Mixed List:\", mixed_list)"
   ]
  },
  {
   "cell_type": "markdown",
   "id": "965d5c15-a418-4308-b166-aeb4fd8277d9",
   "metadata": {},
   "source": [
    "## list within list"
   ]
  },
  {
   "cell_type": "code",
   "execution_count": 2,
   "id": "6f0dea68-4ad4-4930-aa8f-c997053fed7e",
   "metadata": {},
   "outputs": [
    {
     "data": {
      "text/plain": [
       "[[1, 2, 34], [[4, 5, 6, 7], [10.5, 11.5]]]"
      ]
     },
     "execution_count": 2,
     "metadata": {},
     "output_type": "execute_result"
    }
   ],
   "source": [
    "x = [[1,2,34],\n",
    "       [[4,5,6,7]\n",
    "        ,[10.5,11.5]\n",
    "       ]\n",
    "    ]\n",
    "x"
   ]
  },
  {
   "cell_type": "code",
   "execution_count": 3,
   "id": "4e86432c-aae2-4595-97b2-2f5bd0abeaae",
   "metadata": {},
   "outputs": [
    {
     "data": {
      "text/plain": [
       "[1, 2.5]"
      ]
     },
     "execution_count": 3,
     "metadata": {},
     "output_type": "execute_result"
    }
   ],
   "source": [
    "a = [1, 2.5, \"hello\"]\n",
    "a[0:2]"
   ]
  },
  {
   "cell_type": "markdown",
   "id": "3bc16927-f2f2-48ba-b4b3-01b8bd7294f8",
   "metadata": {},
   "source": [
    "## slicing"
   ]
  },
  {
   "cell_type": "code",
   "execution_count": 4,
   "id": "6f63e193-9639-42dc-be3e-e22524a992a4",
   "metadata": {},
   "outputs": [
    {
     "data": {
      "text/plain": [
       "[2.5, 'hello']"
      ]
     },
     "execution_count": 4,
     "metadata": {},
     "output_type": "execute_result"
    }
   ],
   "source": [
    "a = [1, 2.5,'a', \"hello\",\"anfjk\",'dwhjb']\n",
    "a[1:5:2]"
   ]
  },
  {
   "cell_type": "markdown",
   "id": "af926c06-7088-4a14-9831-902c89c24249",
   "metadata": {},
   "source": [
    "## Operation on list"
   ]
  },
  {
   "cell_type": "code",
   "execution_count": 5,
   "id": "c3e88dc5-96dd-4c15-ba4c-e82e695df612",
   "metadata": {},
   "outputs": [
    {
     "data": {
      "text/plain": [
       "[0, 0, 0, 0, 0]"
      ]
     },
     "execution_count": 5,
     "metadata": {},
     "output_type": "execute_result"
    }
   ],
   "source": [
    "a = [0] * 5\n",
    "a"
   ]
  },
  {
   "cell_type": "code",
   "execution_count": 6,
   "id": "ab8368ee-5dfc-40b7-8231-a61d42fe1238",
   "metadata": {},
   "outputs": [
    {
     "name": "stdout",
     "output_type": "stream",
     "text": [
      "['a', 'b', 'c', 'd', 'python', 'list']\n"
     ]
    }
   ],
   "source": [
    "letter = ['a','b','c','d']\n",
    "stg = ['python', 'list']\n",
    "\n",
    "print(letter + stg)"
   ]
  },
  {
   "cell_type": "code",
   "execution_count": 7,
   "id": "6c331cd0-e78d-4057-9db0-ed3e0328cff2",
   "metadata": {},
   "outputs": [
    {
     "data": {
      "text/plain": [
       "['p', 'y', 't', 'h', 'o', 'n']"
      ]
     },
     "execution_count": 7,
     "metadata": {},
     "output_type": "execute_result"
    }
   ],
   "source": [
    "a = list(\"python\")\n",
    "a"
   ]
  },
  {
   "cell_type": "code",
   "execution_count": 8,
   "id": "5467ffe2-ff72-4dfc-8b61-91713edcd65f",
   "metadata": {},
   "outputs": [
    {
     "name": "stdout",
     "output_type": "stream",
     "text": [
      "1\n",
      "[23, 4, 5]\n"
     ]
    }
   ],
   "source": [
    "num = [1,23,4,5]\n",
    "a, *other = num\n",
    "print(a)\n",
    "print(other)"
   ]
  },
  {
   "cell_type": "code",
   "execution_count": 10,
   "id": "a39ea15e-82b8-4d90-8b50-ee8ce1877b6f",
   "metadata": {},
   "outputs": [
    {
     "name": "stdout",
     "output_type": "stream",
     "text": [
      "apple\n",
      "banana\n",
      "pineapple\n",
      "mango\n"
     ]
    }
   ],
   "source": [
    "fruit = ['apple','banana','orange','pineapple','mango']\n",
    "\n",
    "for i in fruit:\n",
    "    if i == 'orange':\n",
    "        continue\n",
    "    print(i)"
   ]
  },
  {
   "cell_type": "code",
   "execution_count": 15,
   "id": "ca1c72c2-5e2e-40fc-9932-6a558b74a8ba",
   "metadata": {},
   "outputs": [
    {
     "name": "stdout",
     "output_type": "stream",
     "text": [
      "5\n",
      "10\n",
      "15\n",
      "20\n",
      "25\n"
     ]
    }
   ],
   "source": [
    "num = [1,2,3,4,5]\n",
    "for i in num:\n",
    "    print(i * 5)"
   ]
  },
  {
   "cell_type": "code",
   "execution_count": 21,
   "id": "9d4fa882-eede-474f-adf4-b3e07a46df66",
   "metadata": {},
   "outputs": [
    {
     "name": "stdout",
     "output_type": "stream",
     "text": [
      "[1, 2, 3, 4, 5, 8]\n"
     ]
    }
   ],
   "source": [
    "num = [1,2,3,4,5]\n",
    "num.append(8)\n",
    "print(num)"
   ]
  },
  {
   "cell_type": "code",
   "execution_count": 24,
   "id": "05756e66-6642-4f35-8648-9d2e5e77b6c9",
   "metadata": {},
   "outputs": [
    {
     "name": "stdout",
     "output_type": "stream",
     "text": [
      "[1, 2, 3, 4, 5, 'fhd', 'fnd']\n"
     ]
    }
   ],
   "source": [
    "num = [1,2,3,4,5]\n",
    "stg=['fhd','fnd']\n",
    "num.extend(stg)\n",
    "print(num)"
   ]
  },
  {
   "cell_type": "code",
   "execution_count": 27,
   "id": "02b2aa6e-73bd-42bc-bb7d-ca1ce6ab8135",
   "metadata": {},
   "outputs": [
    {
     "name": "stdout",
     "output_type": "stream",
     "text": [
      "['fhd', 'fnd', 1, 2, 3, 4, 5]\n"
     ]
    }
   ],
   "source": [
    "num = [1,2,3,4,5]\n",
    "stg=['fhd','fnd']\n",
    "stg.extend(num)\n",
    "print(stg)"
   ]
  },
  {
   "cell_type": "code",
   "execution_count": 29,
   "id": "a913f61a-3cdc-4bc1-89f1-0c49d7af7478",
   "metadata": {},
   "outputs": [
    {
     "name": "stdout",
     "output_type": "stream",
     "text": [
      "[1, 2, 3, 4, 5, 'fhd', 'fnd']\n",
      "[1, 2, 3, 4, 'apple', 5, 'fhd', 'fnd']\n"
     ]
    }
   ],
   "source": [
    "num = [1,2,3,4,5]\n",
    "stg=['fhd','fnd']\n",
    "num.extend(stg)\n",
    "print(num)\n",
    "num.insert(4,'apple')\n",
    "print(num)"
   ]
  },
  {
   "cell_type": "markdown",
   "id": "1e203c39-e82e-461c-8025-5624912ea7ef",
   "metadata": {},
   "source": [
    "## sorting element in list"
   ]
  },
  {
   "cell_type": "code",
   "execution_count": 37,
   "id": "7e7e1b0a-2ae4-4e28-87c6-82f22d38b7f4",
   "metadata": {},
   "outputs": [
    {
     "name": "stdout",
     "output_type": "stream",
     "text": [
      "[1, 2, 4, 7, 8, 9, 9, 67, 4346]\n"
     ]
    }
   ],
   "source": [
    "a = [1,4,67,8,9,4346,7,9,2]\n",
    "a.sort()\n",
    "print(a)"
   ]
  },
  {
   "cell_type": "code",
   "execution_count": 38,
   "id": "871970e3-d97c-436c-8abf-a45ae9a441a1",
   "metadata": {},
   "outputs": [
    {
     "name": "stdout",
     "output_type": "stream",
     "text": [
      "[4346, 67, 9, 9, 8, 7, 4, 2, 1]\n"
     ]
    }
   ],
   "source": [
    "a = [1,4,67,8,9,4346,7,9,2]\n",
    "a.sort(reverse=True)\n",
    "print(a)"
   ]
  },
  {
   "cell_type": "code",
   "execution_count": null,
   "id": "8049c782-199f-40e8-b160-119a3d3efc3b",
   "metadata": {},
   "outputs": [],
   "source": []
  }
 ],
 "metadata": {
  "kernelspec": {
   "display_name": "Python 3 (ipykernel)",
   "language": "python",
   "name": "python3"
  },
  "language_info": {
   "codemirror_mode": {
    "name": "ipython",
    "version": 3
   },
   "file_extension": ".py",
   "mimetype": "text/x-python",
   "name": "python",
   "nbconvert_exporter": "python",
   "pygments_lexer": "ipython3",
   "version": "3.12.2"
  }
 },
 "nbformat": 4,
 "nbformat_minor": 5
}

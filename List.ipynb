{
 "cells": [
  {
   "cell_type": "code",
   "execution_count": 1,
   "id": "eaa7f2ce-c97c-49a1-8e6c-f0309924ea2d",
   "metadata": {},
   "outputs": [
    {
     "name": "stdout",
     "output_type": "stream",
     "text": [
      "Integer List: [1, 2, 3, 4, 5]\n",
      "Float List: [1.1, 2.2, 3.3, 4.4, 5.5]\n",
      "String List: ['apple', 'banana', 'cherry']\n",
      "Mixed List: [1, 2.5, 'hello']\n"
     ]
    }
   ],
   "source": [
    "# List of integers\n",
    "int_list = [1, 2, 3, 4, 5]\n",
    "\n",
    "# List of floats\n",
    "float_list = [1.1, 2.2, 3.3, 4.4, 5.5]\n",
    "\n",
    "# List of strings\n",
    "string_list = [\"apple\", \"banana\", \"cherry\"]\n",
    "\n",
    "# Mixed list of int, float, and string\n",
    "mixed_list = [1, 2.5, \"hello\"]\n",
    "\n",
    "# Printing each list\n",
    "print(\"Integer List:\", int_list)\n",
    "print(\"Float List:\", float_list)\n",
    "print(\"String List:\", string_list)\n",
    "print(\"Mixed List:\", mixed_list)"
   ]
  },
  {
   "cell_type": "code",
   "execution_count": null,
   "id": "28a347ed-2ed7-4348-a653-400c089f0377",
   "metadata": {},
   "outputs": [],
   "source": []
  }
 ],
 "metadata": {
  "kernelspec": {
   "display_name": "Python 3 (ipykernel)",
   "language": "python",
   "name": "python3"
  },
  "language_info": {
   "codemirror_mode": {
    "name": "ipython",
    "version": 3
   },
   "file_extension": ".py",
   "mimetype": "text/x-python",
   "name": "python",
   "nbconvert_exporter": "python",
   "pygments_lexer": "ipython3",
   "version": "3.12.2"
  }
 },
 "nbformat": 4,
 "nbformat_minor": 5
}
